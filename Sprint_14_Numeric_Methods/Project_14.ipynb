{
 "cells": [
  {
   "cell_type": "markdown",
   "id": "b10d6ef0",
   "metadata": {},
   "source": [
    "The used car sales service Rusty Bargain is developing an app to attract new customers. Thanks to this app, you can quickly find out the market value of your car. You have access to the history: technical specifications, equipment versions and prices. You have to create a model that determines the market value.\n",
    "Rusty Bargain is interested in:\n",
    "- the quality of the prediction;\n",
    "- the speed of the prediction;\n",
    "- the time required for training\n",
    "\n",
    "Translated with DeepL.com (free version)"
   ]
  },
  {
   "cell_type": "markdown",
   "id": "6b5c9bd5",
   "metadata": {},
   "source": [
    "# Data Preparation "
   ]
  },
  {
   "cell_type": "markdown",
   "id": "7ea64312",
   "metadata": {},
   "source": [
    "We would like to start by importing all the libraries that we will use during this process."
   ]
  },
  {
   "cell_type": "code",
   "execution_count": 1,
   "id": "33c59a84",
   "metadata": {},
   "outputs": [],
   "source": [
    "# Pandas for dataset management\n",
    "import pandas as pd\n",
    "# Sklearn for machine learning practices and modelling\n",
    "from sklearn.linear_model import LinearRegression\n",
    "from sklearn.ensemble import RandomForestRegressor\n",
    "from sklearn.ensemble import GradientBoostingRegressor\n",
    "from sklearn.tree import DecisionTreeRegressor\n",
    "from sklearn.preprocessing import StandardScaler\n",
    "from sklearn import metrics as skmet\n",
    "from sklearn.model_selection import train_test_split\n",
    "from sklearn.utils import shuffle\n",
    "# Light GBM for the LightGBM algorithm\n",
    "import lightgbm as lgb\n",
    "from lightgbm import LGBMRegressor\n",
    "# XGBoost for the XGBoost algorithm\n",
    "from xgboost import XGBRegressor\n",
    "# CatBoost for the CatBoost algorithm\n",
    "from catboost import CatBoostRegressor\n",
    "# Plotly for showing the data in dynamic graphics\n",
    "import matplotlib.pyplot as plt\n",
    "# Numpy for specific numeric operations\n",
    "import numpy as np\n",
    "# Measure time on a function\n",
    "import time\n",
    "# Seaborn for better graphics\n",
    "import seaborn as sns\n",
    "# Disables all warnings\n",
    "import warnings\n",
    "warnings.filterwarnings(\"ignore\")"
   ]
  },
  {
   "cell_type": "markdown",
   "id": "e4cee099",
   "metadata": {},
   "source": [
    "Then we proceed to import our dataset for our project"
   ]
  },
  {
   "cell_type": "code",
   "execution_count": 359,
   "id": "d5769185",
   "metadata": {},
   "outputs": [
    {
     "name": "stdout",
     "output_type": "stream",
     "text": [
      "        DateCrawled  Price VehicleType  RegistrationYear Gearbox  Power  \\\n",
      "0  24/03/2016 11:52    480         NaN              1993  manual      0   \n",
      "1  24/03/2016 10:58  18300       coupe              2011  manual    190   \n",
      "2  14/03/2016 12:52   9800         suv              2004    auto    163   \n",
      "3  17/03/2016 16:54   1500       small              2001  manual     75   \n",
      "4  31/03/2016 17:25   3600       small              2008  manual     69   \n",
      "\n",
      "   Model  Mileage  RegistrationMonth  FuelType       Brand NotRepaired  \\\n",
      "0   golf   150000                  0    petrol  volkswagen         NaN   \n",
      "1    NaN   125000                  5  gasoline        audi         yes   \n",
      "2  grand   125000                  8  gasoline        jeep         NaN   \n",
      "3   golf   150000                  6    petrol  volkswagen          no   \n",
      "4  fabia    90000                  7  gasoline       skoda          no   \n",
      "\n",
      "        DateCreated  NumberOfPictures  PostalCode          LastSeen  \n",
      "0  24/03/2016 00:00                 0       70435  07/04/2016 03:16  \n",
      "1  24/03/2016 00:00                 0       66954  07/04/2016 01:46  \n",
      "2  14/03/2016 00:00                 0       90480  05/04/2016 12:47  \n",
      "3  17/03/2016 00:00                 0       91074  17/03/2016 17:40  \n",
      "4  31/03/2016 00:00                 0       60437  06/04/2016 10:17  \n",
      "\n",
      "Rows: 354369 - Columns: 16\n"
     ]
    }
   ],
   "source": [
    "df = pd.read_csv('datasets/car_data.csv')\n",
    "print(df.head(5))\n",
    "print()\n",
    "print(f\"Rows: {df.shape[0]} - Columns: {df.shape[1]}\")"
   ]
  },
  {
   "cell_type": "code",
   "execution_count": 383,
   "id": "ba518e4f",
   "metadata": {},
   "outputs": [
    {
     "data": {
      "text/html": [
       "<div>\n",
       "<style scoped>\n",
       "    .dataframe tbody tr th:only-of-type {\n",
       "        vertical-align: middle;\n",
       "    }\n",
       "\n",
       "    .dataframe tbody tr th {\n",
       "        vertical-align: top;\n",
       "    }\n",
       "\n",
       "    .dataframe thead th {\n",
       "        text-align: right;\n",
       "    }\n",
       "</style>\n",
       "<table border=\"1\" class=\"dataframe\">\n",
       "  <thead>\n",
       "    <tr style=\"text-align: right;\">\n",
       "      <th></th>\n",
       "      <th>DateCrawled</th>\n",
       "      <th>Price</th>\n",
       "      <th>VehicleType</th>\n",
       "      <th>RegistrationYear</th>\n",
       "      <th>Gearbox</th>\n",
       "      <th>Power</th>\n",
       "      <th>Model</th>\n",
       "      <th>Mileage</th>\n",
       "      <th>RegistrationMonth</th>\n",
       "      <th>FuelType</th>\n",
       "      <th>Brand</th>\n",
       "      <th>NotRepaired</th>\n",
       "      <th>DateCreated</th>\n",
       "      <th>PostalCode</th>\n",
       "      <th>LastSeen</th>\n",
       "    </tr>\n",
       "  </thead>\n",
       "  <tbody>\n",
       "    <tr>\n",
       "      <th>3</th>\n",
       "      <td>2016-03-17 16:54:00</td>\n",
       "      <td>1500</td>\n",
       "      <td>small</td>\n",
       "      <td>2001</td>\n",
       "      <td>manual</td>\n",
       "      <td>75</td>\n",
       "      <td>golf</td>\n",
       "      <td>150000</td>\n",
       "      <td>6</td>\n",
       "      <td>petrol</td>\n",
       "      <td>volkswagen</td>\n",
       "      <td>False</td>\n",
       "      <td>2016-03-17 16:54:00</td>\n",
       "      <td>91074</td>\n",
       "      <td>2016-03-17 16:54:00</td>\n",
       "    </tr>\n",
       "    <tr>\n",
       "      <th>4</th>\n",
       "      <td>2016-03-31 17:25:00</td>\n",
       "      <td>3600</td>\n",
       "      <td>small</td>\n",
       "      <td>2008</td>\n",
       "      <td>manual</td>\n",
       "      <td>69</td>\n",
       "      <td>fabia</td>\n",
       "      <td>90000</td>\n",
       "      <td>7</td>\n",
       "      <td>gasoline</td>\n",
       "      <td>skoda</td>\n",
       "      <td>False</td>\n",
       "      <td>2016-03-31 17:25:00</td>\n",
       "      <td>60437</td>\n",
       "      <td>2016-03-31 17:25:00</td>\n",
       "    </tr>\n",
       "    <tr>\n",
       "      <th>5</th>\n",
       "      <td>2016-04-04 17:36:00</td>\n",
       "      <td>650</td>\n",
       "      <td>sedan</td>\n",
       "      <td>1995</td>\n",
       "      <td>manual</td>\n",
       "      <td>102</td>\n",
       "      <td>3er</td>\n",
       "      <td>150000</td>\n",
       "      <td>10</td>\n",
       "      <td>petrol</td>\n",
       "      <td>bmw</td>\n",
       "      <td>True</td>\n",
       "      <td>2016-04-04 17:36:00</td>\n",
       "      <td>33775</td>\n",
       "      <td>2016-04-04 17:36:00</td>\n",
       "    </tr>\n",
       "    <tr>\n",
       "      <th>6</th>\n",
       "      <td>2016-04-01 20:48:00</td>\n",
       "      <td>2200</td>\n",
       "      <td>convertible</td>\n",
       "      <td>2004</td>\n",
       "      <td>manual</td>\n",
       "      <td>109</td>\n",
       "      <td>2_reihe</td>\n",
       "      <td>150000</td>\n",
       "      <td>8</td>\n",
       "      <td>petrol</td>\n",
       "      <td>peugeot</td>\n",
       "      <td>False</td>\n",
       "      <td>2016-04-01 20:48:00</td>\n",
       "      <td>67112</td>\n",
       "      <td>2016-04-01 20:48:00</td>\n",
       "    </tr>\n",
       "    <tr>\n",
       "      <th>7</th>\n",
       "      <td>2016-03-21 18:54:00</td>\n",
       "      <td>0</td>\n",
       "      <td>sedan</td>\n",
       "      <td>1980</td>\n",
       "      <td>manual</td>\n",
       "      <td>50</td>\n",
       "      <td>other</td>\n",
       "      <td>40000</td>\n",
       "      <td>7</td>\n",
       "      <td>petrol</td>\n",
       "      <td>volkswagen</td>\n",
       "      <td>False</td>\n",
       "      <td>2016-03-21 18:54:00</td>\n",
       "      <td>19348</td>\n",
       "      <td>2016-03-21 18:54:00</td>\n",
       "    </tr>\n",
       "    <tr>\n",
       "      <th>...</th>\n",
       "      <td>...</td>\n",
       "      <td>...</td>\n",
       "      <td>...</td>\n",
       "      <td>...</td>\n",
       "      <td>...</td>\n",
       "      <td>...</td>\n",
       "      <td>...</td>\n",
       "      <td>...</td>\n",
       "      <td>...</td>\n",
       "      <td>...</td>\n",
       "      <td>...</td>\n",
       "      <td>...</td>\n",
       "      <td>...</td>\n",
       "      <td>...</td>\n",
       "      <td>...</td>\n",
       "    </tr>\n",
       "    <tr>\n",
       "      <th>354360</th>\n",
       "      <td>2016-04-02 20:37:00</td>\n",
       "      <td>3999</td>\n",
       "      <td>wagon</td>\n",
       "      <td>2005</td>\n",
       "      <td>manual</td>\n",
       "      <td>3</td>\n",
       "      <td>3er</td>\n",
       "      <td>150000</td>\n",
       "      <td>5</td>\n",
       "      <td>gasoline</td>\n",
       "      <td>bmw</td>\n",
       "      <td>False</td>\n",
       "      <td>2016-04-02 20:37:00</td>\n",
       "      <td>81825</td>\n",
       "      <td>2016-04-02 20:37:00</td>\n",
       "    </tr>\n",
       "    <tr>\n",
       "      <th>354362</th>\n",
       "      <td>2016-03-19 19:53:00</td>\n",
       "      <td>3200</td>\n",
       "      <td>sedan</td>\n",
       "      <td>2004</td>\n",
       "      <td>manual</td>\n",
       "      <td>225</td>\n",
       "      <td>leon</td>\n",
       "      <td>150000</td>\n",
       "      <td>5</td>\n",
       "      <td>petrol</td>\n",
       "      <td>seat</td>\n",
       "      <td>True</td>\n",
       "      <td>2016-03-19 19:53:00</td>\n",
       "      <td>96465</td>\n",
       "      <td>2016-03-19 19:53:00</td>\n",
       "    </tr>\n",
       "    <tr>\n",
       "      <th>354363</th>\n",
       "      <td>2016-03-27 20:36:00</td>\n",
       "      <td>1150</td>\n",
       "      <td>bus</td>\n",
       "      <td>2000</td>\n",
       "      <td>manual</td>\n",
       "      <td>0</td>\n",
       "      <td>zafira</td>\n",
       "      <td>150000</td>\n",
       "      <td>3</td>\n",
       "      <td>petrol</td>\n",
       "      <td>opel</td>\n",
       "      <td>False</td>\n",
       "      <td>2016-03-27 20:36:00</td>\n",
       "      <td>26624</td>\n",
       "      <td>2016-03-27 20:36:00</td>\n",
       "    </tr>\n",
       "    <tr>\n",
       "      <th>354366</th>\n",
       "      <td>2016-03-05 19:56:00</td>\n",
       "      <td>1199</td>\n",
       "      <td>convertible</td>\n",
       "      <td>2000</td>\n",
       "      <td>auto</td>\n",
       "      <td>101</td>\n",
       "      <td>fortwo</td>\n",
       "      <td>125000</td>\n",
       "      <td>3</td>\n",
       "      <td>petrol</td>\n",
       "      <td>smart</td>\n",
       "      <td>False</td>\n",
       "      <td>2016-03-05 19:56:00</td>\n",
       "      <td>26135</td>\n",
       "      <td>2016-03-05 19:56:00</td>\n",
       "    </tr>\n",
       "    <tr>\n",
       "      <th>354367</th>\n",
       "      <td>2016-03-19 18:57:00</td>\n",
       "      <td>9200</td>\n",
       "      <td>bus</td>\n",
       "      <td>1996</td>\n",
       "      <td>manual</td>\n",
       "      <td>102</td>\n",
       "      <td>transporter</td>\n",
       "      <td>150000</td>\n",
       "      <td>3</td>\n",
       "      <td>gasoline</td>\n",
       "      <td>volkswagen</td>\n",
       "      <td>False</td>\n",
       "      <td>2016-03-19 18:57:00</td>\n",
       "      <td>87439</td>\n",
       "      <td>2016-03-19 18:57:00</td>\n",
       "    </tr>\n",
       "  </tbody>\n",
       "</table>\n",
       "<p>245567 rows × 15 columns</p>\n",
       "</div>"
      ],
      "text/plain": [
       "               DateCrawled  Price  VehicleType  RegistrationYear Gearbox  \\\n",
       "3      2016-03-17 16:54:00   1500        small              2001  manual   \n",
       "4      2016-03-31 17:25:00   3600        small              2008  manual   \n",
       "5      2016-04-04 17:36:00    650        sedan              1995  manual   \n",
       "6      2016-04-01 20:48:00   2200  convertible              2004  manual   \n",
       "7      2016-03-21 18:54:00      0        sedan              1980  manual   \n",
       "...                    ...    ...          ...               ...     ...   \n",
       "354360 2016-04-02 20:37:00   3999        wagon              2005  manual   \n",
       "354362 2016-03-19 19:53:00   3200        sedan              2004  manual   \n",
       "354363 2016-03-27 20:36:00   1150          bus              2000  manual   \n",
       "354366 2016-03-05 19:56:00   1199  convertible              2000    auto   \n",
       "354367 2016-03-19 18:57:00   9200          bus              1996  manual   \n",
       "\n",
       "        Power        Model  Mileage  RegistrationMonth  FuelType       Brand  \\\n",
       "3          75         golf   150000                  6    petrol  volkswagen   \n",
       "4          69        fabia    90000                  7  gasoline       skoda   \n",
       "5         102          3er   150000                 10    petrol         bmw   \n",
       "6         109      2_reihe   150000                  8    petrol     peugeot   \n",
       "7          50        other    40000                  7    petrol  volkswagen   \n",
       "...       ...          ...      ...                ...       ...         ...   \n",
       "354360      3          3er   150000                  5  gasoline         bmw   \n",
       "354362    225         leon   150000                  5    petrol        seat   \n",
       "354363      0       zafira   150000                  3    petrol        opel   \n",
       "354366    101       fortwo   125000                  3    petrol       smart   \n",
       "354367    102  transporter   150000                  3  gasoline  volkswagen   \n",
       "\n",
       "        NotRepaired         DateCreated  PostalCode            LastSeen  \n",
       "3             False 2016-03-17 16:54:00       91074 2016-03-17 16:54:00  \n",
       "4             False 2016-03-31 17:25:00       60437 2016-03-31 17:25:00  \n",
       "5              True 2016-04-04 17:36:00       33775 2016-04-04 17:36:00  \n",
       "6             False 2016-04-01 20:48:00       67112 2016-04-01 20:48:00  \n",
       "7             False 2016-03-21 18:54:00       19348 2016-03-21 18:54:00  \n",
       "...             ...                 ...         ...                 ...  \n",
       "354360        False 2016-04-02 20:37:00       81825 2016-04-02 20:37:00  \n",
       "354362         True 2016-03-19 19:53:00       96465 2016-03-19 19:53:00  \n",
       "354363        False 2016-03-27 20:36:00       26624 2016-03-27 20:36:00  \n",
       "354366        False 2016-03-05 19:56:00       26135 2016-03-05 19:56:00  \n",
       "354367        False 2016-03-19 18:57:00       87439 2016-03-19 18:57:00  \n",
       "\n",
       "[245567 rows x 15 columns]"
      ]
     },
     "execution_count": 383,
     "metadata": {},
     "output_type": "execute_result"
    }
   ],
   "source": [
    "df"
   ]
  },
  {
   "cell_type": "code",
   "execution_count": 360,
   "id": "8ebdc4b9",
   "metadata": {},
   "outputs": [
    {
     "data": {
      "text/plain": [
       "DateCrawled              0\n",
       "Price                    0\n",
       "VehicleType          37490\n",
       "RegistrationYear         0\n",
       "Gearbox              19833\n",
       "Power                    0\n",
       "Model                19705\n",
       "Mileage                  0\n",
       "RegistrationMonth        0\n",
       "FuelType             32895\n",
       "Brand                    0\n",
       "NotRepaired          71154\n",
       "DateCreated              0\n",
       "NumberOfPictures         0\n",
       "PostalCode               0\n",
       "LastSeen                 0\n",
       "dtype: int64"
      ]
     },
     "execution_count": 360,
     "metadata": {},
     "output_type": "execute_result"
    }
   ],
   "source": [
    "# First we would want to check null and repeated values in the dataset\n",
    "df.isna().sum()"
   ]
  },
  {
   "cell_type": "code",
   "execution_count": 361,
   "id": "111542d9",
   "metadata": {},
   "outputs": [
    {
     "name": "stdout",
     "output_type": "stream",
     "text": [
      "\n",
      "Rows: 245814 - Columns: 16\n"
     ]
    }
   ],
   "source": [
    "# drop all NaN values in the dataset\n",
    "df = df.dropna()\n",
    "print()\n",
    "print(f\"Rows: {df.shape[0]} - Columns: {df.shape[1]}\")"
   ]
  },
  {
   "cell_type": "code",
   "execution_count": 362,
   "id": "15337c42",
   "metadata": {},
   "outputs": [
    {
     "name": "stdout",
     "output_type": "stream",
     "text": [
      "Number of duplicated items:  247\n",
      "\n",
      "Rows: 245567 - Columns: 16\n"
     ]
    }
   ],
   "source": [
    "# We check if there are any duplicated values in the dataset\n",
    "print(\"Number of duplicated items: \",df.duplicated().sum())\n",
    "# and drop them\n",
    "df = df.drop_duplicates()\n",
    "print()\n",
    "print(f\"Rows: {df.shape[0]} - Columns: {df.shape[1]}\")"
   ]
  },
  {
   "cell_type": "code",
   "execution_count": 363,
   "id": "2e3e4c22",
   "metadata": {},
   "outputs": [
    {
     "data": {
      "text/plain": [
       "DateCrawled          object\n",
       "Price                 int64\n",
       "VehicleType          object\n",
       "RegistrationYear      int64\n",
       "Gearbox              object\n",
       "Power                 int64\n",
       "Model                object\n",
       "Mileage               int64\n",
       "RegistrationMonth     int64\n",
       "FuelType             object\n",
       "Brand                object\n",
       "NotRepaired          object\n",
       "DateCreated          object\n",
       "NumberOfPictures      int64\n",
       "PostalCode            int64\n",
       "LastSeen             object\n",
       "dtype: object"
      ]
     },
     "execution_count": 363,
     "metadata": {},
     "output_type": "execute_result"
    }
   ],
   "source": [
    "# We check the data types of the columns to see if there are any incorrect types\n",
    "df.dtypes"
   ]
  },
  {
   "cell_type": "markdown",
   "id": "97866467",
   "metadata": {},
   "source": [
    "We can change the next types just to maintain a clearer view on our data\n",
    "- DateCarawled to datetime\n",
    "- Not Repaired boolean"
   ]
  },
  {
   "cell_type": "code",
   "execution_count": 364,
   "id": "aa990b12",
   "metadata": {},
   "outputs": [
    {
     "name": "stdout",
     "output_type": "stream",
     "text": [
      "<class 'pandas.core.frame.DataFrame'>\n",
      "Index: 245567 entries, 3 to 354367\n",
      "Data columns (total 16 columns):\n",
      " #   Column             Non-Null Count   Dtype         \n",
      "---  ------             --------------   -----         \n",
      " 0   DateCrawled        245567 non-null  datetime64[ns]\n",
      " 1   Price              245567 non-null  int64         \n",
      " 2   VehicleType        245567 non-null  object        \n",
      " 3   RegistrationYear   245567 non-null  int64         \n",
      " 4   Gearbox            245567 non-null  object        \n",
      " 5   Power              245567 non-null  int64         \n",
      " 6   Model              245567 non-null  object        \n",
      " 7   Mileage            245567 non-null  int64         \n",
      " 8   RegistrationMonth  245567 non-null  int64         \n",
      " 9   FuelType           245567 non-null  object        \n",
      " 10  Brand              245567 non-null  object        \n",
      " 11  NotRepaired        245567 non-null  bool          \n",
      " 12  DateCreated        245567 non-null  datetime64[ns]\n",
      " 13  NumberOfPictures   245567 non-null  int64         \n",
      " 14  PostalCode         245567 non-null  int64         \n",
      " 15  LastSeen           245567 non-null  datetime64[ns]\n",
      "dtypes: bool(1), datetime64[ns](3), int64(7), object(5)\n",
      "memory usage: 30.2+ MB\n"
     ]
    }
   ],
   "source": [
    "# Change type to datetime\n",
    "df['DateCrawled'] = pd.to_datetime(df['DateCrawled'], format='%d/%m/%Y %H:%M')\n",
    "df['DateCreated'] = pd.to_datetime(df['DateCrawled'], format='%d/%m/%Y %H:%M')\n",
    "df['LastSeen'] = pd.to_datetime(df['DateCrawled'], format='%d/%m/%Y %H:%M')\n",
    "# Transform the column to NotRepaired into boolean\n",
    "df['NotRepaired'] = df['NotRepaired'].map({'yes': True, 'no': False})\n",
    "df.info()"
   ]
  },
  {
   "cell_type": "code",
   "execution_count": 365,
   "id": "c6bfb0fb",
   "metadata": {},
   "outputs": [],
   "source": [
    "# Fainally we notice that there is a column that never changes, which means it is useless for our analysis\n",
    "df = df.drop(columns=['NumberOfPictures'])"
   ]
  },
  {
   "cell_type": "markdown",
   "id": "e905ed4e",
   "metadata": {},
   "source": [
    "# Model Training"
   ]
  },
  {
   "cell_type": "markdown",
   "id": "d756deea",
   "metadata": {},
   "source": [
    "## Numerical Encoding"
   ]
  },
  {
   "cell_type": "markdown",
   "id": "46f18b0a",
   "metadata": {},
   "source": [
    "To get a Numerical Encoding for all our values we need to first categorize all of them to then transform each data type correctly and create dataframe with all numerical values."
   ]
  },
  {
   "cell_type": "code",
   "execution_count": 290,
   "id": "8493b0c2",
   "metadata": {},
   "outputs": [
    {
     "name": "stdout",
     "output_type": "stream",
     "text": [
      "['VehicleType', 'Gearbox', 'Model', 'FuelType', 'Brand', 'NotRepaired']\n"
     ]
    }
   ],
   "source": [
    "# Gets all categorical columns in the dataset\n",
    "cat_cols = df.select_dtypes(include=['object', 'bool']).columns.tolist()\n",
    "print(cat_cols)"
   ]
  },
  {
   "cell_type": "code",
   "execution_count": 291,
   "id": "84a62fb0",
   "metadata": {},
   "outputs": [
    {
     "name": "stdout",
     "output_type": "stream",
     "text": [
      "['Price', 'RegistrationYear', 'Power', 'Mileage', 'RegistrationMonth', 'PostalCode']\n"
     ]
    }
   ],
   "source": [
    "# Gets all numeric columns in the dataset\n",
    "num_cols = df.select_dtypes(include=['number']).columns.tolist()\n",
    "print(num_cols)"
   ]
  },
  {
   "cell_type": "code",
   "execution_count": 292,
   "id": "5fc292c0",
   "metadata": {},
   "outputs": [
    {
     "name": "stdout",
     "output_type": "stream",
     "text": [
      "['DateCrawled', 'DateCreated', 'LastSeen']\n"
     ]
    }
   ],
   "source": [
    "# Gets all date columns in the dataset\n",
    "date_cols = df.select_dtypes(include=['datetime64[ns]']).columns.tolist()\n",
    "print(date_cols)"
   ]
  },
  {
   "cell_type": "code",
   "execution_count": 293,
   "id": "adc12967",
   "metadata": {},
   "outputs": [],
   "source": [
    "df_encoded = pd.get_dummies(df, columns=cat_cols, drop_first=True)"
   ]
  },
  {
   "cell_type": "code",
   "execution_count": 294,
   "id": "0953d252",
   "metadata": {},
   "outputs": [],
   "source": [
    "def prepare_data(df, categorical_cols, date_cols):\n",
    "    \"\"\"\n",
    "    Prepares the dataframe:\n",
    "    - Converts date columns into year and month\n",
    "    - One-Hot Encodes categorical columns\n",
    "    - Returns a clean dataframe\n",
    "    \"\"\"\n",
    "    prepared_df = df.copy()  # To avoid modifying original\n",
    "\n",
    "    # --- 1. Handle date columns ---\n",
    "    for col in date_cols:\n",
    "        # Convert to datetime\n",
    "        prepared_df[col] = pd.to_datetime(prepared_df[col], format='%d/%m/%Y %H:%M')\n",
    "\n",
    "        # Create year and month features\n",
    "        prepared_df[f'{col}_year'] = prepared_df[col].dt.year\n",
    "        prepared_df[f'{col}_month'] = prepared_df[col].dt.month\n",
    "\n",
    "    # Drop original date columns\n",
    "    prepared_df = prepared_df.drop(columns=date_cols)\n",
    "\n",
    "    # --- 2. Handle categorical columns ---\n",
    "    prepared_df = pd.get_dummies(prepared_df, columns=categorical_cols, drop_first=True)\n",
    "\n",
    "    return prepared_df"
   ]
  },
  {
   "cell_type": "code",
   "execution_count": 295,
   "id": "9d315b90",
   "metadata": {},
   "outputs": [],
   "source": [
    "# Assign the result of the function to a new dataframe variable\n",
    "df_numeric = prepare_data(df, cat_cols, date_cols)\n",
    "# Get ll the booleans created on the OHE\n",
    "bool_columns = df_numeric.select_dtypes(include=['bool']).columns.tolist()\n",
    "# Convert boolean columns to integers (0 and 1)\n",
    "# This is done to make it easier to work with the data later on\n",
    "df_numeric[bool_columns] = df_numeric[bool_columns].astype(int)\n"
   ]
  },
  {
   "cell_type": "code",
   "execution_count": 296,
   "id": "50155843",
   "metadata": {},
   "outputs": [
    {
     "data": {
      "text/plain": [
       "int64    307\n",
       "int32      6\n",
       "Name: count, dtype: int64"
      ]
     },
     "execution_count": 296,
     "metadata": {},
     "output_type": "execute_result"
    }
   ],
   "source": [
    "df_numeric.dtypes.value_counts()"
   ]
  },
  {
   "cell_type": "markdown",
   "id": "490415fb",
   "metadata": {},
   "source": [
    "## Timer"
   ]
  },
  {
   "cell_type": "markdown",
   "id": "f7804b1b",
   "metadata": {},
   "source": [
    "We need to know how much our models are taking to return the results, for this we will create a function that does this for us."
   ]
  },
  {
   "cell_type": "code",
   "execution_count": 297,
   "id": "c7fc75f9",
   "metadata": {},
   "outputs": [],
   "source": [
    "def timer(func):\n",
    "    def wrapper(*args, **kwargs):\n",
    "        start = time.perf_counter()\n",
    "        result = func(*args, **kwargs)\n",
    "        end = time.perf_counter()\n",
    "        print(f\"⏰ Function '{func.__name__}' took {end - start:.4f} seconds\")\n",
    "        return result\n",
    "    return wrapper"
   ]
  },
  {
   "cell_type": "markdown",
   "id": "97fa02e4",
   "metadata": {},
   "source": [
    "## Generate a Standarized version of the data"
   ]
  },
  {
   "cell_type": "markdown",
   "id": "831b4f8e",
   "metadata": {},
   "source": [
    "In the span of the project we will have various types of models.\n",
    "- Linear Regression\n",
    "- Decision Tree\n",
    "- Random Forest\n",
    "- LightGBM\n",
    "- CatBoost\n",
    "- XGBoost\n",
    "\n",
    "Now that we have our data processed, we can split our data into our raw values and standarized values. Having 2 dataframes can help with the usage of various models. \n",
    "\n",
    "* Standarized dataframes can help with our Logistic Regression and CatBoost\n",
    "* Meanwhile, having a raw dataframe can help in order to use Decision Trees, Random Forest, XGBoost and LightGBM"
   ]
  },
  {
   "cell_type": "code",
   "execution_count": 298,
   "id": "2e6133c0",
   "metadata": {},
   "outputs": [],
   "source": [
    "scaler = StandardScaler()\n",
    "# Creatre a copy of the dataframe\n",
    "df_standardized = df_numeric.copy()\n",
    "# Standardize the numeric columns\n",
    "df_standardized[num_cols] = scaler.fit_transform(df_standardized[num_cols])"
   ]
  },
  {
   "cell_type": "code",
   "execution_count": 299,
   "id": "28a5c3cd",
   "metadata": {},
   "outputs": [
    {
     "data": {
      "text/html": [
       "<div>\n",
       "<style scoped>\n",
       "    .dataframe tbody tr th:only-of-type {\n",
       "        vertical-align: middle;\n",
       "    }\n",
       "\n",
       "    .dataframe tbody tr th {\n",
       "        vertical-align: top;\n",
       "    }\n",
       "\n",
       "    .dataframe thead th {\n",
       "        text-align: right;\n",
       "    }\n",
       "</style>\n",
       "<table border=\"1\" class=\"dataframe\">\n",
       "  <thead>\n",
       "    <tr style=\"text-align: right;\">\n",
       "      <th></th>\n",
       "      <th>Price</th>\n",
       "      <th>RegistrationYear</th>\n",
       "      <th>Power</th>\n",
       "      <th>Mileage</th>\n",
       "      <th>RegistrationMonth</th>\n",
       "      <th>PostalCode</th>\n",
       "      <th>DateCrawled_year</th>\n",
       "      <th>DateCrawled_month</th>\n",
       "      <th>DateCreated_year</th>\n",
       "      <th>DateCreated_month</th>\n",
       "      <th>...</th>\n",
       "      <th>Brand_seat</th>\n",
       "      <th>Brand_skoda</th>\n",
       "      <th>Brand_smart</th>\n",
       "      <th>Brand_subaru</th>\n",
       "      <th>Brand_suzuki</th>\n",
       "      <th>Brand_toyota</th>\n",
       "      <th>Brand_trabant</th>\n",
       "      <th>Brand_volkswagen</th>\n",
       "      <th>Brand_volvo</th>\n",
       "      <th>NotRepaired_True</th>\n",
       "    </tr>\n",
       "  </thead>\n",
       "  <tbody>\n",
       "    <tr>\n",
       "      <th>3</th>\n",
       "      <td>-0.768404</td>\n",
       "      <td>-0.311174</td>\n",
       "      <td>-0.322499</td>\n",
       "      <td>0.612277</td>\n",
       "      <td>-0.051555</td>\n",
       "      <td>1.532972</td>\n",
       "      <td>2016</td>\n",
       "      <td>3</td>\n",
       "      <td>2016</td>\n",
       "      <td>3</td>\n",
       "      <td>...</td>\n",
       "      <td>0</td>\n",
       "      <td>0</td>\n",
       "      <td>0</td>\n",
       "      <td>0</td>\n",
       "      <td>0</td>\n",
       "      <td>0</td>\n",
       "      <td>0</td>\n",
       "      <td>1</td>\n",
       "      <td>0</td>\n",
       "      <td>0</td>\n",
       "    </tr>\n",
       "    <tr>\n",
       "      <th>4</th>\n",
       "      <td>-0.323343</td>\n",
       "      <td>0.824328</td>\n",
       "      <td>-0.365526</td>\n",
       "      <td>-1.005870</td>\n",
       "      <td>0.235819</td>\n",
       "      <td>0.347318</td>\n",
       "      <td>2016</td>\n",
       "      <td>3</td>\n",
       "      <td>2016</td>\n",
       "      <td>3</td>\n",
       "      <td>...</td>\n",
       "      <td>0</td>\n",
       "      <td>1</td>\n",
       "      <td>0</td>\n",
       "      <td>0</td>\n",
       "      <td>0</td>\n",
       "      <td>0</td>\n",
       "      <td>0</td>\n",
       "      <td>0</td>\n",
       "      <td>0</td>\n",
       "      <td>0</td>\n",
       "    </tr>\n",
       "    <tr>\n",
       "      <th>5</th>\n",
       "      <td>-0.948547</td>\n",
       "      <td>-1.284461</td>\n",
       "      <td>-0.128878</td>\n",
       "      <td>0.612277</td>\n",
       "      <td>1.097944</td>\n",
       "      <td>-0.684503</td>\n",
       "      <td>2016</td>\n",
       "      <td>4</td>\n",
       "      <td>2016</td>\n",
       "      <td>4</td>\n",
       "      <td>...</td>\n",
       "      <td>0</td>\n",
       "      <td>0</td>\n",
       "      <td>0</td>\n",
       "      <td>0</td>\n",
       "      <td>0</td>\n",
       "      <td>0</td>\n",
       "      <td>0</td>\n",
       "      <td>0</td>\n",
       "      <td>0</td>\n",
       "      <td>1</td>\n",
       "    </tr>\n",
       "    <tr>\n",
       "      <th>6</th>\n",
       "      <td>-0.620050</td>\n",
       "      <td>0.175470</td>\n",
       "      <td>-0.078680</td>\n",
       "      <td>0.612277</td>\n",
       "      <td>0.523194</td>\n",
       "      <td>0.605641</td>\n",
       "      <td>2016</td>\n",
       "      <td>4</td>\n",
       "      <td>2016</td>\n",
       "      <td>4</td>\n",
       "      <td>...</td>\n",
       "      <td>0</td>\n",
       "      <td>0</td>\n",
       "      <td>0</td>\n",
       "      <td>0</td>\n",
       "      <td>0</td>\n",
       "      <td>0</td>\n",
       "      <td>0</td>\n",
       "      <td>0</td>\n",
       "      <td>0</td>\n",
       "      <td>0</td>\n",
       "    </tr>\n",
       "    <tr>\n",
       "      <th>7</th>\n",
       "      <td>-1.086304</td>\n",
       "      <td>-3.717679</td>\n",
       "      <td>-0.501778</td>\n",
       "      <td>-2.354325</td>\n",
       "      <td>0.235819</td>\n",
       "      <td>-1.242829</td>\n",
       "      <td>2016</td>\n",
       "      <td>3</td>\n",
       "      <td>2016</td>\n",
       "      <td>3</td>\n",
       "      <td>...</td>\n",
       "      <td>0</td>\n",
       "      <td>0</td>\n",
       "      <td>0</td>\n",
       "      <td>0</td>\n",
       "      <td>0</td>\n",
       "      <td>0</td>\n",
       "      <td>0</td>\n",
       "      <td>1</td>\n",
       "      <td>0</td>\n",
       "      <td>0</td>\n",
       "    </tr>\n",
       "  </tbody>\n",
       "</table>\n",
       "<p>5 rows × 313 columns</p>\n",
       "</div>"
      ],
      "text/plain": [
       "      Price  RegistrationYear     Power   Mileage  RegistrationMonth  \\\n",
       "3 -0.768404         -0.311174 -0.322499  0.612277          -0.051555   \n",
       "4 -0.323343          0.824328 -0.365526 -1.005870           0.235819   \n",
       "5 -0.948547         -1.284461 -0.128878  0.612277           1.097944   \n",
       "6 -0.620050          0.175470 -0.078680  0.612277           0.523194   \n",
       "7 -1.086304         -3.717679 -0.501778 -2.354325           0.235819   \n",
       "\n",
       "   PostalCode  DateCrawled_year  DateCrawled_month  DateCreated_year  \\\n",
       "3    1.532972              2016                  3              2016   \n",
       "4    0.347318              2016                  3              2016   \n",
       "5   -0.684503              2016                  4              2016   \n",
       "6    0.605641              2016                  4              2016   \n",
       "7   -1.242829              2016                  3              2016   \n",
       "\n",
       "   DateCreated_month  ...  Brand_seat  Brand_skoda  Brand_smart  Brand_subaru  \\\n",
       "3                  3  ...           0            0            0             0   \n",
       "4                  3  ...           0            1            0             0   \n",
       "5                  4  ...           0            0            0             0   \n",
       "6                  4  ...           0            0            0             0   \n",
       "7                  3  ...           0            0            0             0   \n",
       "\n",
       "   Brand_suzuki  Brand_toyota  Brand_trabant  Brand_volkswagen  Brand_volvo  \\\n",
       "3             0             0              0                 1            0   \n",
       "4             0             0              0                 0            0   \n",
       "5             0             0              0                 0            0   \n",
       "6             0             0              0                 0            0   \n",
       "7             0             0              0                 1            0   \n",
       "\n",
       "   NotRepaired_True  \n",
       "3                 0  \n",
       "4                 0  \n",
       "5                 1  \n",
       "6                 0  \n",
       "7                 0  \n",
       "\n",
       "[5 rows x 313 columns]"
      ]
     },
     "execution_count": 299,
     "metadata": {},
     "output_type": "execute_result"
    }
   ],
   "source": [
    "df_standardized.head(5)"
   ]
  },
  {
   "cell_type": "markdown",
   "id": "862f1b8a",
   "metadata": {},
   "source": [
    "## Features and Targets"
   ]
  },
  {
   "cell_type": "markdown",
   "id": "6f16f9c2",
   "metadata": {},
   "source": [
    "For this section we will need to adjust our parameters for the training of the models by assigning the features and the targets as well as their percentages of the train data and the test data."
   ]
  },
  {
   "cell_type": "code",
   "execution_count": null,
   "id": "28087bd4",
   "metadata": {},
   "outputs": [],
   "source": [
    "# Assigning the features and target variables\n",
    "features = df_numeric.columns.drop(['Price'])\n",
    "target = 'Price'\n",
    "# Split the data into training and testing sets\n",
    "X_train,X_test,y_train,y_test = train_test_split(df_numeric[features], df_numeric[target], test_size=0.25, random_state=12345)\n",
    "# For standarized data\n",
    "X_train_std,X_test_std,y_train_std,y_test_std = train_test_split(df_standardized[features], df_standardized[target], test_size=0.25, random_state=12345)"
   ]
  },
  {
   "cell_type": "markdown",
   "id": "6b7e87a4",
   "metadata": {},
   "source": [
    "## Sanity Check"
   ]
  },
  {
   "cell_type": "code",
   "execution_count": 301,
   "id": "e4b18916",
   "metadata": {},
   "outputs": [],
   "source": [
    "def sanity_check(X_train,X_test,y_train,y_test):\n",
    "    \"\"\"\n",
    "    Runs a linear and gradient boosting regression model on the data.\n",
    "    Prints the mean squared error for both models.\n",
    "    \"\"\"\n",
    "    # Create a linear regression model\n",
    "    lr = LinearRegression()\n",
    "    lr.fit(X_train, y_train)\n",
    "    y_pred_lr = lr.predict(X_test)\n",
    "    # Create a gradient boosting regressor model\n",
    "    gbr = GradientBoostingRegressor(random_state=42)\n",
    "    gbr.fit(X_train, y_train)\n",
    "    y_pred_gbr = gbr.predict(X_test)\n",
    "    # Calculate the mean squared error for both models\n",
    "    lr_mse = skmet.root_mean_squared_error(y_test, y_pred_lr)\n",
    "    gbr_mse = skmet.root_mean_squared_error(y_test, y_pred_gbr)\n",
    "    # Print the mean squared error for both models\n",
    "    print(f\"Linear Regression MSE: {lr_mse:.4f}\")\n",
    "    print(f\"Gradient Boosting MSE: {gbr_mse:.4f}\")"
   ]
  },
  {
   "cell_type": "code",
   "execution_count": 302,
   "id": "bc981c68",
   "metadata": {},
   "outputs": [
    {
     "name": "stdout",
     "output_type": "stream",
     "text": [
      "Linear Regression MSE: 2709.8108\n",
      "Gradient Boosting MSE: 1940.8392\n",
      "Linear Regression MSE: 0.5743\n",
      "Gradient Boosting MSE: 0.4112\n"
     ]
    }
   ],
   "source": [
    "# Run with the original data\n",
    "sanity_check(X_train,X_test,y_train,y_test)\n",
    "# Run with the standardized data\n",
    "sanity_check(X_train_std,X_test_std,y_train_std,y_test_std)"
   ]
  },
  {
   "cell_type": "markdown",
   "id": "8d56e6a8",
   "metadata": {},
   "source": [
    "In both General and Standarized data, our gradient boosting performed better, so the sanity check is passed."
   ]
  },
  {
   "cell_type": "markdown",
   "id": "399f752e",
   "metadata": {},
   "source": [
    "## Random Forest Regressor"
   ]
  },
  {
   "cell_type": "code",
   "execution_count": 379,
   "id": "2d015057",
   "metadata": {},
   "outputs": [],
   "source": [
    "def randomForestRegression(features_train, features_test, valid_train, valid_test, depth):\n",
    "    # Measure the execution time\n",
    "    start_time = time.perf_counter()\n",
    "\n",
    "    # Create and train the model\n",
    "    modelRFR = RandomForestRegressor(max_depth=depth, n_estimators=25, random_state=12345)\n",
    "    modelRFR.fit(features_train, valid_train)\n",
    "\n",
    "    # Make predictions\n",
    "    y_pred = modelRFR.predict(features_test)\n",
    "\n",
    "    # Calculate RMSE\n",
    "    rmse = skmet.root_mean_squared_error(valid_test, y_pred)\n",
    "\n",
    "    # Measure the execution time\n",
    "    end_time = time.perf_counter()\n",
    "    elapsed_time = end_time - start_time\n",
    "\n",
    "    # Create a array to store the results of depth, RMSE, and execution time\n",
    "    return [depth, rmse, elapsed_time]"
   ]
  },
  {
   "cell_type": "code",
   "execution_count": 380,
   "id": "5dbb9e9b",
   "metadata": {},
   "outputs": [
    {
     "data": {
      "text/html": [
       "<div>\n",
       "<style scoped>\n",
       "    .dataframe tbody tr th:only-of-type {\n",
       "        vertical-align: middle;\n",
       "    }\n",
       "\n",
       "    .dataframe tbody tr th {\n",
       "        vertical-align: top;\n",
       "    }\n",
       "\n",
       "    .dataframe thead th {\n",
       "        text-align: right;\n",
       "    }\n",
       "</style>\n",
       "<table border=\"1\" class=\"dataframe\">\n",
       "  <thead>\n",
       "    <tr style=\"text-align: right;\">\n",
       "      <th></th>\n",
       "      <th>Depth</th>\n",
       "      <th>RMSE</th>\n",
       "      <th>Execution Time</th>\n",
       "    </tr>\n",
       "  </thead>\n",
       "  <tbody>\n",
       "    <tr>\n",
       "      <th>0</th>\n",
       "      <td>15</td>\n",
       "      <td>1742.795131</td>\n",
       "      <td>78.461810</td>\n",
       "    </tr>\n",
       "    <tr>\n",
       "      <th>1</th>\n",
       "      <td>10</td>\n",
       "      <td>1940.369225</td>\n",
       "      <td>59.999662</td>\n",
       "    </tr>\n",
       "    <tr>\n",
       "      <th>2</th>\n",
       "      <td>5</td>\n",
       "      <td>2409.756568</td>\n",
       "      <td>34.320981</td>\n",
       "    </tr>\n",
       "  </tbody>\n",
       "</table>\n",
       "</div>"
      ],
      "text/plain": [
       "   Depth         RMSE  Execution Time\n",
       "0     15  1742.795131       78.461810\n",
       "1     10  1940.369225       59.999662\n",
       "2      5  2409.756568       34.320981"
      ]
     },
     "execution_count": 380,
     "metadata": {},
     "output_type": "execute_result"
    }
   ],
   "source": [
    "RFR_results_df = pd.DataFrame()\n",
    "results_rfr = []\n",
    "\n",
    "for depth in [5, 10, 15]:\n",
    "    results_rfr.append(randomForestRegression(X_train, X_test, y_train, y_test, depth))\n",
    "\n",
    "# Create a DataFrame from the results\n",
    "RFR_results_df = pd.DataFrame(results_rfr, columns=['Depth', 'RMSE', 'Execution Time'])\n",
    "# Sort the DataFrame by RMSE\n",
    "RFR_results_df = RFR_results_df.sort_values(by='RMSE', ascending=True).reset_index(drop=True)\n",
    "# Display the DataFrame\n",
    "RFR_results_df"
   ]
  },
  {
   "cell_type": "markdown",
   "id": "348e5458",
   "metadata": {},
   "source": [
    "## Decision Tree Regressor"
   ]
  },
  {
   "cell_type": "code",
   "execution_count": 381,
   "id": "01f8df5b",
   "metadata": {},
   "outputs": [],
   "source": [
    "def decisionTreeRegressor(features_train, features_test, valid_train, valid_test, depth,leaves):\n",
    "    # Measure the execution time\n",
    "    start_time = time.perf_counter()\n",
    "\n",
    "    # Create and train the model\n",
    "    modelRFR = DecisionTreeRegressor(max_depth=depth,max_leaf_nodes=leaves, random_state=12345)\n",
    "    modelRFR.fit(features_train, valid_train)\n",
    "\n",
    "    # Make predictions\n",
    "    y_pred = modelRFR.predict(features_test)\n",
    "\n",
    "    # Calculate RMSE\n",
    "    rmse = skmet.root_mean_squared_error(valid_test, y_pred)\n",
    "\n",
    "    # Measure the execution time\n",
    "    end_time = time.perf_counter()\n",
    "    elapsed_time = end_time - start_time\n",
    "\n",
    "    # Create a array to store the results of depth, RMSE, and execution time\n",
    "    return [depth, rmse, elapsed_time]"
   ]
  },
  {
   "cell_type": "code",
   "execution_count": 382,
   "id": "9e998850",
   "metadata": {},
   "outputs": [
    {
     "data": {
      "text/html": [
       "<div>\n",
       "<style scoped>\n",
       "    .dataframe tbody tr th:only-of-type {\n",
       "        vertical-align: middle;\n",
       "    }\n",
       "\n",
       "    .dataframe tbody tr th {\n",
       "        vertical-align: top;\n",
       "    }\n",
       "\n",
       "    .dataframe thead th {\n",
       "        text-align: right;\n",
       "    }\n",
       "</style>\n",
       "<table border=\"1\" class=\"dataframe\">\n",
       "  <thead>\n",
       "    <tr style=\"text-align: right;\">\n",
       "      <th></th>\n",
       "      <th>Depth</th>\n",
       "      <th>RMSE</th>\n",
       "      <th>Execution Time</th>\n",
       "    </tr>\n",
       "  </thead>\n",
       "  <tbody>\n",
       "    <tr>\n",
       "      <th>0</th>\n",
       "      <td>10</td>\n",
       "      <td>2428.911293</td>\n",
       "      <td>3.211641</td>\n",
       "    </tr>\n",
       "    <tr>\n",
       "      <th>1</th>\n",
       "      <td>15</td>\n",
       "      <td>2428.911293</td>\n",
       "      <td>3.219620</td>\n",
       "    </tr>\n",
       "    <tr>\n",
       "      <th>2</th>\n",
       "      <td>5</td>\n",
       "      <td>2454.118400</td>\n",
       "      <td>2.849310</td>\n",
       "    </tr>\n",
       "    <tr>\n",
       "      <th>3</th>\n",
       "      <td>10</td>\n",
       "      <td>2529.600816</td>\n",
       "      <td>2.796249</td>\n",
       "    </tr>\n",
       "    <tr>\n",
       "      <th>4</th>\n",
       "      <td>15</td>\n",
       "      <td>2529.600816</td>\n",
       "      <td>2.903398</td>\n",
       "    </tr>\n",
       "    <tr>\n",
       "      <th>5</th>\n",
       "      <td>5</td>\n",
       "      <td>2529.600816</td>\n",
       "      <td>2.992082</td>\n",
       "    </tr>\n",
       "    <tr>\n",
       "      <th>6</th>\n",
       "      <td>10</td>\n",
       "      <td>2734.025956</td>\n",
       "      <td>2.383446</td>\n",
       "    </tr>\n",
       "    <tr>\n",
       "      <th>7</th>\n",
       "      <td>5</td>\n",
       "      <td>2734.025956</td>\n",
       "      <td>2.425082</td>\n",
       "    </tr>\n",
       "    <tr>\n",
       "      <th>8</th>\n",
       "      <td>15</td>\n",
       "      <td>2734.025956</td>\n",
       "      <td>2.276804</td>\n",
       "    </tr>\n",
       "  </tbody>\n",
       "</table>\n",
       "</div>"
      ],
      "text/plain": [
       "   Depth         RMSE  Execution Time\n",
       "0     10  2428.911293        3.211641\n",
       "1     15  2428.911293        3.219620\n",
       "2      5  2454.118400        2.849310\n",
       "3     10  2529.600816        2.796249\n",
       "4     15  2529.600816        2.903398\n",
       "5      5  2529.600816        2.992082\n",
       "6     10  2734.025956        2.383446\n",
       "7      5  2734.025956        2.425082\n",
       "8     15  2734.025956        2.276804"
      ]
     },
     "execution_count": 382,
     "metadata": {},
     "output_type": "execute_result"
    }
   ],
   "source": [
    "DT_results_df = pd.DataFrame()\n",
    "results_dt = []\n",
    "\n",
    "for depth in [5, 10, 15]:\n",
    "    for leaves in [10, 20, 30]:\n",
    "        results_dt.append(decisionTreeRegressor(X_train, X_test, y_train, y_test, depth,leaves))\n",
    "\n",
    "# Create a DataFrame from the results\n",
    "DT_results_df = pd.DataFrame(results_dt, columns=['Depth', 'RMSE', 'Execution Time'])\n",
    "# Sort the DataFrame by RMSE\n",
    "DT_results_df = DT_results_df.sort_values(by='RMSE', ascending=True).reset_index(drop=True)\n",
    "# Display the DataFrame\n",
    "DT_results_df"
   ]
  },
  {
   "cell_type": "markdown",
   "id": "f499eaff",
   "metadata": {},
   "source": [
    "## LightGBM"
   ]
  },
  {
   "cell_type": "code",
   "execution_count": 373,
   "id": "508812e7",
   "metadata": {},
   "outputs": [],
   "source": [
    "def prepare_datetimes(df, date_cols):\n",
    "    \"\"\"\n",
    "    Prepares the dataframe:\n",
    "    - Converts date columns into year and month\n",
    "    - Returns a clean dataframe for LightGBM model training\n",
    "    \"\"\"\n",
    "    prepared_df = df.copy()  # To avoid modifying original\n",
    "\n",
    "    # --- 1. Handle date columns ---\n",
    "    for col in date_cols:\n",
    "        # Convert to datetime\n",
    "        prepared_df[col] = pd.to_datetime(prepared_df[col], format='%d/%m/%Y %H:%M')\n",
    "\n",
    "        # Create year and month features\n",
    "        prepared_df[f'{col}_year'] = prepared_df[col].dt.year\n",
    "        prepared_df[f'{col}_month'] = prepared_df[col].dt.month\n",
    "\n",
    "    # Drop original date columns\n",
    "    prepared_df = prepared_df.drop(columns=date_cols)\n",
    "\n",
    "    return prepared_df"
   ]
  },
  {
   "cell_type": "code",
   "execution_count": null,
   "id": "a49daf6a",
   "metadata": {},
   "outputs": [],
   "source": [
    "def lightGBM(df, date_cols, cat_cols, depth,leaves):\n",
    "\n",
    "    # Creating a dataset compatible with LightGBM\n",
    "    lgb_df = prepare_datetimes(df, date_cols)\n",
    "\n",
    "    # Assigning the features and target variables\n",
    "    features_lgb = lgb_df[lgb_df.columns.drop(['Price'])]\n",
    "    target_lgb = lgb_df['Price']\n",
    "\n",
    "    # Convert are categorical features to category type\n",
    "    for col in [cat_cols]:\n",
    "        features_lgb[col] = features_lgb[col].astype('category')\n",
    "\n",
    "    # Create a dataset for LightGBM model\n",
    "    lgb_data = lgb.Dataset(features_lgb, label=target_lgb, categorical_feature=cat_cols)\n",
    "\n",
    "    # Set parameters for training the model\n",
    "    params = {'objective': 'regression', 'metric': 'rmse', 'force_row_wise':'true', 'max_depth': depth, 'num_leaves': leaves, 'learning_rate': 0.1, 'verbose': -1}\n",
    "\n",
    "    # Measure the execution time\n",
    "    start_time = time.perf_counter()\n",
    "\n",
    "    # Create and train the LGBMmodel\n",
    "    model = lgb.train(params, lgb_data, num_boost_round=100)\n",
    "\n",
    "    # Make predictions\n",
    "    y_pred = model.predict(features_lgb)\n",
    "\n",
    "    # Calculate RMSE\n",
    "    rmse = np.sqrt(skmet.mean_squared_error(target_lgb, y_pred))\n",
    "\n",
    "    # Measure the execution time\n",
    "    end_time = time.perf_counter()\n",
    "    elapsed_time = end_time - start_time\n",
    "\n",
    "    # Return DataFrame with the number of leaves, number of depths and execution time\n",
    "    return [leaves,depth,rmse,elapsed_time]"
   ]
  },
  {
   "cell_type": "code",
   "execution_count": null,
   "id": "68113642",
   "metadata": {},
   "outputs": [
    {
     "data": {
      "text/html": [
       "<div>\n",
       "<style scoped>\n",
       "    .dataframe tbody tr th:only-of-type {\n",
       "        vertical-align: middle;\n",
       "    }\n",
       "\n",
       "    .dataframe tbody tr th {\n",
       "        vertical-align: top;\n",
       "    }\n",
       "\n",
       "    .dataframe thead th {\n",
       "        text-align: right;\n",
       "    }\n",
       "</style>\n",
       "<table border=\"1\" class=\"dataframe\">\n",
       "  <thead>\n",
       "    <tr style=\"text-align: right;\">\n",
       "      <th></th>\n",
       "      <th>Leaves</th>\n",
       "      <th>Depth</th>\n",
       "      <th>RMSE</th>\n",
       "      <th>Execution Time</th>\n",
       "    </tr>\n",
       "  </thead>\n",
       "  <tbody>\n",
       "    <tr>\n",
       "      <th>0</th>\n",
       "      <td>30</td>\n",
       "      <td>15</td>\n",
       "      <td>1610.989585</td>\n",
       "      <td>1.119664</td>\n",
       "    </tr>\n",
       "    <tr>\n",
       "      <th>1</th>\n",
       "      <td>30</td>\n",
       "      <td>10</td>\n",
       "      <td>1611.347664</td>\n",
       "      <td>1.093746</td>\n",
       "    </tr>\n",
       "    <tr>\n",
       "      <th>2</th>\n",
       "      <td>30</td>\n",
       "      <td>5</td>\n",
       "      <td>1642.029419</td>\n",
       "      <td>1.082500</td>\n",
       "    </tr>\n",
       "    <tr>\n",
       "      <th>3</th>\n",
       "      <td>20</td>\n",
       "      <td>15</td>\n",
       "      <td>1656.065253</td>\n",
       "      <td>0.966109</td>\n",
       "    </tr>\n",
       "    <tr>\n",
       "      <th>4</th>\n",
       "      <td>20</td>\n",
       "      <td>10</td>\n",
       "      <td>1656.898828</td>\n",
       "      <td>0.967618</td>\n",
       "    </tr>\n",
       "    <tr>\n",
       "      <th>5</th>\n",
       "      <td>20</td>\n",
       "      <td>5</td>\n",
       "      <td>1664.956019</td>\n",
       "      <td>0.904469</td>\n",
       "    </tr>\n",
       "    <tr>\n",
       "      <th>6</th>\n",
       "      <td>10</td>\n",
       "      <td>5</td>\n",
       "      <td>1738.521139</td>\n",
       "      <td>0.849649</td>\n",
       "    </tr>\n",
       "    <tr>\n",
       "      <th>7</th>\n",
       "      <td>10</td>\n",
       "      <td>10</td>\n",
       "      <td>1741.200177</td>\n",
       "      <td>0.849143</td>\n",
       "    </tr>\n",
       "    <tr>\n",
       "      <th>8</th>\n",
       "      <td>10</td>\n",
       "      <td>15</td>\n",
       "      <td>1741.200177</td>\n",
       "      <td>0.819459</td>\n",
       "    </tr>\n",
       "  </tbody>\n",
       "</table>\n",
       "</div>"
      ],
      "text/plain": [
       "   Leaves  Depth         RMSE  Execution Time\n",
       "0      30     15  1610.989585        1.119664\n",
       "1      30     10  1611.347664        1.093746\n",
       "2      30      5  1642.029419        1.082500\n",
       "3      20     15  1656.065253        0.966109\n",
       "4      20     10  1656.898828        0.967618\n",
       "5      20      5  1664.956019        0.904469\n",
       "6      10      5  1738.521139        0.849649\n",
       "7      10     10  1741.200177        0.849143\n",
       "8      10     15  1741.200177        0.819459"
      ]
     },
     "execution_count": 345,
     "metadata": {},
     "output_type": "execute_result"
    }
   ],
   "source": [
    "LGBM_results_df = pd.DataFrame()\n",
    "results_lgb = []\n",
    "\n",
    "for depth in [5, 10, 15]:\n",
    "    for leaves in [10, 20, 30]:\n",
    "        results_lgb.append(lightGBM(df, date_cols, cat_cols, depth, leaves))\n",
    "\n",
    "# Create a DataFrame from the results\n",
    "LGBM_results_df = pd.DataFrame(results_lgb, columns=['Leaves', 'Depth', 'RMSE', 'Execution Time'])\n",
    "# Sort the DataFrame by RMSE\n",
    "LGBM_results_df = LGBM_results_df.sort_values(by='RMSE', ascending=True).reset_index(drop=True)\n",
    "# Display the DataFrame\n",
    "LGBM_results_df"
   ]
  },
  {
   "cell_type": "markdown",
   "id": "549e115b",
   "metadata": {},
   "source": [
    "## CatBoostRegressor"
   ]
  },
  {
   "cell_type": "code",
   "execution_count": 374,
   "id": "4c150a9f",
   "metadata": {},
   "outputs": [],
   "source": [
    "def catBoostRegressor(X_train,X_test,y_train,y_test, depth):\n",
    "    # Measure the execution time\n",
    "    start_time = time.perf_counter()\n",
    "\n",
    "    # Create and train the model\n",
    "    modelCBR = CatBoostRegressor(iterations=100,learning_rate=0.1,depth=depth,verbose=0,random_state=12345)\n",
    "    modelCBR.fit(X_train, y_train, cat_features=cat_cols)\n",
    "\n",
    "    # Make predictions\n",
    "    y_pred = modelCBR.predict(X_test)\n",
    "\n",
    "    # Calculate RMSE\n",
    "    rmse = skmet.root_mean_squared_error(y_test, y_pred)\n",
    "\n",
    "    # Measure the execution time\n",
    "    end_time = time.perf_counter()\n",
    "    elapsed_time = end_time - start_time\n",
    "\n",
    "    # Create a array to store the results of depth, RMSE, and execution time\n",
    "    return [depth, rmse, elapsed_time]"
   ]
  },
  {
   "cell_type": "code",
   "execution_count": 377,
   "id": "bc91bcc9",
   "metadata": {},
   "outputs": [],
   "source": [
    "# Use the prepared datetimes function to prepare the data for CatBoost\n",
    "cat_df = prepare_datetimes(df, date_cols)\n",
    "# Get features and target variables\n",
    "features_og = cat_df.columns.drop(['Price'])\n",
    "target_og = 'Price'\n",
    "# Split the data into training and testing sets\n",
    "X_train_og,X_test_og,y_train_og,y_test_og = train_test_split(cat_df[features_og], cat_df[target_og], test_size=0.30, random_state=12345)"
   ]
  },
  {
   "cell_type": "code",
   "execution_count": 378,
   "id": "cf9c6297",
   "metadata": {},
   "outputs": [
    {
     "data": {
      "text/html": [
       "<div>\n",
       "<style scoped>\n",
       "    .dataframe tbody tr th:only-of-type {\n",
       "        vertical-align: middle;\n",
       "    }\n",
       "\n",
       "    .dataframe tbody tr th {\n",
       "        vertical-align: top;\n",
       "    }\n",
       "\n",
       "    .dataframe thead th {\n",
       "        text-align: right;\n",
       "    }\n",
       "</style>\n",
       "<table border=\"1\" class=\"dataframe\">\n",
       "  <thead>\n",
       "    <tr style=\"text-align: right;\">\n",
       "      <th></th>\n",
       "      <th>Depth</th>\n",
       "      <th>RMSE</th>\n",
       "      <th>Execution Time</th>\n",
       "    </tr>\n",
       "  </thead>\n",
       "  <tbody>\n",
       "    <tr>\n",
       "      <th>0</th>\n",
       "      <td>15</td>\n",
       "      <td>1648.777015</td>\n",
       "      <td>73.303453</td>\n",
       "    </tr>\n",
       "    <tr>\n",
       "      <th>1</th>\n",
       "      <td>10</td>\n",
       "      <td>1708.741430</td>\n",
       "      <td>12.864216</td>\n",
       "    </tr>\n",
       "    <tr>\n",
       "      <th>2</th>\n",
       "      <td>5</td>\n",
       "      <td>1863.508939</td>\n",
       "      <td>7.555382</td>\n",
       "    </tr>\n",
       "  </tbody>\n",
       "</table>\n",
       "</div>"
      ],
      "text/plain": [
       "   Depth         RMSE  Execution Time\n",
       "0     15  1648.777015       73.303453\n",
       "1     10  1708.741430       12.864216\n",
       "2      5  1863.508939        7.555382"
      ]
     },
     "execution_count": 378,
     "metadata": {},
     "output_type": "execute_result"
    }
   ],
   "source": [
    "CB_results_df = pd.DataFrame()\n",
    "results_cb = []\n",
    "\n",
    "for depth in [5, 10, 15]:\n",
    "    results_cb.append(catBoostRegressor(X_train_og,X_test_og,y_train_og,y_test_og, depth))\n",
    "\n",
    "# Create a DataFrame from the results\n",
    "CB_results_df = pd.DataFrame(results_cb, columns=['Depth', 'RMSE', 'Execution Time'])\n",
    "# Sort the DataFrame by RMSE\n",
    "CB_results_df = CB_results_df.sort_values(by='RMSE', ascending=True).reset_index(drop=True)\n",
    "# Display the DataFrame\n",
    "CB_results_df"
   ]
  },
  {
   "cell_type": "markdown",
   "id": "3f25348a",
   "metadata": {},
   "source": [
    "## XGBoost"
   ]
  },
  {
   "cell_type": "code",
   "execution_count": 386,
   "id": "f3eb9040",
   "metadata": {},
   "outputs": [],
   "source": [
    "def xgBoost(features_train, features_test, valid_train, valid_test, depth):\n",
    "    # Measure the execution time\n",
    "    start_time = time.perf_counter()\n",
    "\n",
    "    # With XGBoost we can use our standardized data because it was done using OHE and scaling\n",
    "    # Create and train the model\n",
    "    modelXGB = XGBRegressor(n_estimators=100, max_depth=depth, random_state=12345)\n",
    "    modelXGB.fit(features_train, valid_train)\n",
    "    # Make predictions\n",
    "    y_pred = modelXGB.predict(features_test)\n",
    "    # Calculate RMSE\n",
    "    rmse = skmet.root_mean_squared_error(valid_test, y_pred)\n",
    "\n",
    "    # Measure the execution time\n",
    "    end_time = time.perf_counter()\n",
    "    elapsed_time = end_time - start_time\n",
    "\n",
    "    # Create a array to store the results of depth, RMSE, and execution time\n",
    "    return [depth, rmse, elapsed_time]"
   ]
  },
  {
   "cell_type": "code",
   "execution_count": 387,
   "id": "0d6e9e5d",
   "metadata": {},
   "outputs": [
    {
     "data": {
      "text/html": [
       "<div>\n",
       "<style scoped>\n",
       "    .dataframe tbody tr th:only-of-type {\n",
       "        vertical-align: middle;\n",
       "    }\n",
       "\n",
       "    .dataframe tbody tr th {\n",
       "        vertical-align: top;\n",
       "    }\n",
       "\n",
       "    .dataframe thead th {\n",
       "        text-align: right;\n",
       "    }\n",
       "</style>\n",
       "<table border=\"1\" class=\"dataframe\">\n",
       "  <thead>\n",
       "    <tr style=\"text-align: right;\">\n",
       "      <th></th>\n",
       "      <th>Depth</th>\n",
       "      <th>RMSE</th>\n",
       "      <th>Execution Time</th>\n",
       "    </tr>\n",
       "  </thead>\n",
       "  <tbody>\n",
       "    <tr>\n",
       "      <th>0</th>\n",
       "      <td>10</td>\n",
       "      <td>1621.960449</td>\n",
       "      <td>4.902606</td>\n",
       "    </tr>\n",
       "    <tr>\n",
       "      <th>1</th>\n",
       "      <td>15</td>\n",
       "      <td>1638.045898</td>\n",
       "      <td>8.678057</td>\n",
       "    </tr>\n",
       "    <tr>\n",
       "      <th>2</th>\n",
       "      <td>5</td>\n",
       "      <td>1725.646729</td>\n",
       "      <td>3.706982</td>\n",
       "    </tr>\n",
       "  </tbody>\n",
       "</table>\n",
       "</div>"
      ],
      "text/plain": [
       "   Depth         RMSE  Execution Time\n",
       "0     10  1621.960449        4.902606\n",
       "1     15  1638.045898        8.678057\n",
       "2      5  1725.646729        3.706982"
      ]
     },
     "execution_count": 387,
     "metadata": {},
     "output_type": "execute_result"
    }
   ],
   "source": [
    "XGB_results_df = pd.DataFrame()\n",
    "results_xgb = []\n",
    "\n",
    "for depth in [5, 10, 15]:\n",
    "    results_xgb.append(xgBoost(X_train, X_test, y_train, y_test, depth))\n",
    "\n",
    "# Create a DataFrame from the results\n",
    "XGB_results_df = pd.DataFrame(results_xgb, columns=['Depth', 'RMSE', 'Execution Time'])\n",
    "# Sort the DataFrame by RMSE\n",
    "XGB_results_df = XGB_results_df.sort_values(by='RMSE', ascending=True).reset_index(drop=True)\n",
    "# Display the DataFrame\n",
    "XGB_results_df"
   ]
  },
  {
   "cell_type": "markdown",
   "id": "0d5ebcd5",
   "metadata": {},
   "source": [
    "# Model Analysis Conclusion"
   ]
  },
  {
   "cell_type": "markdown",
   "id": "a922ee31",
   "metadata": {},
   "source": [
    "All the models where put through a series of different hyperparameters for this analysis. Only the depth in every model trained persisted to see which reactions and values would the model return."
   ]
  },
  {
   "cell_type": "markdown",
   "id": "54a19581",
   "metadata": {},
   "source": [
    "## Tree Models"
   ]
  },
  {
   "cell_type": "markdown",
   "id": "eb9599a3",
   "metadata": {},
   "source": [
    "**Random forest regressor** on this analysis demonstrated to be very slow and but moderalty accurate in all the records we had during this anlayisis.\n",
    "\n",
    "Meanwhile **Decision Tree model** demonstrated to be considerably fast, meanwhile in accuracy there was more to be expected for the analysis."
   ]
  },
  {
   "cell_type": "markdown",
   "id": "0199f523",
   "metadata": {},
   "source": [
    "## Gradient Boosting Models"
   ]
  },
  {
   "cell_type": "markdown",
   "id": "952b1b24",
   "metadata": {},
   "source": [
    "**LigthGBM** demonstrated to be the best model in all the analysis being lightspeed fast and very accurate with the same values the decision tree was given. With just 1 second to get a 16% of accuracy on a depth of 15 with 30 leaves.\n",
    "\n",
    "On the side, **XGBoost** performed very well with speed, getting the vlue to 1621 of root error on 4 seconds, which is very accurate. We can also observe on the model that passing the 10 depth the model gets worse and gives us a higher value than we expected."
   ]
  },
  {
   "cell_type": "markdown",
   "id": "ee36e3c8",
   "metadata": {},
   "source": [
    "## CatBoost Model"
   ]
  },
  {
   "cell_type": "markdown",
   "id": "73ebf76a",
   "metadata": {},
   "source": [
    "**CatBoost** Model was very poor on speed when it came to depth , but accuracy in comparison of other models was very accurate only missing the rmse by 20."
   ]
  }
 ],
 "metadata": {
  "kernelspec": {
   "display_name": "Python 3",
   "language": "python",
   "name": "python3"
  },
  "language_info": {
   "codemirror_mode": {
    "name": "ipython",
    "version": 3
   },
   "file_extension": ".py",
   "mimetype": "text/x-python",
   "name": "python",
   "nbconvert_exporter": "python",
   "pygments_lexer": "ipython3",
   "version": "3.12.10"
  }
 },
 "nbformat": 4,
 "nbformat_minor": 5
}
