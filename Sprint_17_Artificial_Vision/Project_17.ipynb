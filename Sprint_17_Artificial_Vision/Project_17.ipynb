{
 "cells": [
  {
   "cell_type": "markdown",
   "id": "34d212d1",
   "metadata": {},
   "source": [
    "# Project 17"
   ]
  },
  {
   "cell_type": "markdown",
   "id": "9578120c",
   "metadata": {},
   "source": [
    "The Good Seed supermarket chain would like to explore whether data science can help you comply with alcohol laws by making sure you don't sell alcohol to underage people. They're asking you to make that assessment:\n",
    "\n",
    "\n",
    "* Stores are equipped with cameras in the checkout area, which are activated when a person is purchasing alcohol.\n",
    "* Computer vision methods can be used to determine a person's age from a photo.\n",
    "* The task, then, is to build and evaluate a model to verify the age of people."
   ]
  },
  {
   "cell_type": "code",
   "execution_count": 1,
   "id": "801b5535",
   "metadata": {},
   "outputs": [],
   "source": [
    "import pandas as pd\n",
    "from tensorflow.keras.preprocessing.image import ImageDataGenerator\n",
    "from tensorflow.keras.applications.resnet import ResNet50\n",
    "from tensorflow.keras.layers import GlobalAveragePooling2D, Dense, Dropout, Flatten\n",
    "from tensorflow.keras.models import Sequential\n",
    "from tensorflow.keras.optimizers import Adam"
   ]
  },
  {
   "cell_type": "code",
   "execution_count": null,
   "id": "d3f047ab",
   "metadata": {},
   "outputs": [],
   "source": [
    "def load_data(path, subset='training'):\n",
    "    labels = pd.read_csv(path + 'labels.csv')\n",
    "\n",
    "    data_datagen = ImageDataGenerator(\n",
    "        rescale=1./255,\n",
    "        validation_split=0.2\n",
    "    )\n",
    "\n",
    "    data_gen_flow = data_datagen.flow_from_dataframe(\n",
    "        dataframe=labels,\n",
    "        directory=path + 'final_files/',\n",
    "        x_col='file_name',\n",
    "        y_col='real_age',\n",
    "        target_size=(224, 224),\n",
    "        batch_size=16,\n",
    "        class_mode='raw',\n",
    "        subset=subset,\n",
    "        seed=12345)\n",
    "\n",
    "    return data_gen_flow"
   ]
  },
  {
   "cell_type": "code",
   "execution_count": null,
   "id": "e396416d",
   "metadata": {},
   "outputs": [],
   "source": [
    "def create_model(input_shape):\n",
    "\n",
    "    backbone = ResNet50(weights='imagenet',\n",
    "                        input_shape=input_shape,\n",
    "                        include_top=False)\n",
    "\n",
    "    model = Sequential()\n",
    "    model.add(backbone)\n",
    "    model.add(GlobalAveragePooling2D())\n",
    "    model.add(Dense(1, activation='relu'))\n",
    "\n",
    "    optimizer = Adam(learning_rate=0.0005)\n",
    "    model.compile(optimizer=optimizer, loss='mse', metrics=['mae'])\n",
    "\n",
    "    return model"
   ]
  },
  {
   "cell_type": "code",
   "execution_count": 4,
   "id": "5b79685c",
   "metadata": {},
   "outputs": [],
   "source": [
    "def train_model(model, train_data, test_data, batch_size=None, epochs=3):\n",
    "\n",
    "    model.fit(\n",
    "        train_data,\n",
    "        validation_data=test_data,\n",
    "        batch_size=batch_size,\n",
    "        epochs=epochs,\n",
    "        verbose=1\n",
    "    )\n",
    "\n",
    "    return model"
   ]
  },
  {
   "cell_type": "code",
   "execution_count": null,
   "id": "68494785",
   "metadata": {},
   "outputs": [],
   "source": [
    "input_shape = (224, 224, 3)\n",
    "\n",
    "train = load_data('/datasets/train/')\n",
    "test = load_data('/datasets/test/', subset='testing')\n",
    "model = create_model(input_shape)\n",
    "model = train_model(model, train, test)"
   ]
  }
 ],
 "metadata": {
  "kernelspec": {
   "display_name": "Python 3",
   "language": "python",
   "name": "python3"
  },
  "language_info": {
   "codemirror_mode": {
    "name": "ipython",
    "version": 3
   },
   "file_extension": ".py",
   "mimetype": "text/x-python",
   "name": "python",
   "nbconvert_exporter": "python",
   "pygments_lexer": "ipython3",
   "version": "3.12.10"
  }
 },
 "nbformat": 4,
 "nbformat_minor": 5
}
