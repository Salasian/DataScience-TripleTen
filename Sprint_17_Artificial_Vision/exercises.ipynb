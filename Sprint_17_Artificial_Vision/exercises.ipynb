{
 "cells": [
  {
   "cell_type": "markdown",
   "id": "0edd5fb4",
   "metadata": {},
   "source": [
    "# Exercise 1"
   ]
  },
  {
   "cell_type": "code",
   "execution_count": 53,
   "id": "3c876445",
   "metadata": {},
   "outputs": [],
   "source": [
    "import os\n",
    "import struct\n",
    "import numpy as np\n",
    "import matplotlib.pyplot as plt\n",
    "from sklearn.model_selection import train_test_split\n",
    "import keras\n",
    "from keras.models import Sequential\n",
    "from keras.layers import Flatten"
   ]
  },
  {
   "cell_type": "code",
   "execution_count": 54,
   "id": "816d49fe",
   "metadata": {},
   "outputs": [],
   "source": [
    "# No modifiques esta función\n",
    "def read_idx(filename):\n",
    "    with open(filename, 'rb') as f:\n",
    "        zero, data_type, dims = struct.unpack('>HBB', f.read(4))\n",
    "        shape = tuple(struct.unpack('>I', f.read(4))[0] for d in range(dims))\n",
    "        return np.frombuffer(f.read(), dtype=np.uint8).reshape(shape)\n",
    "\n",
    "def load_data(path_imgs, path_labels):\n",
    "    # Cargar las imágenes y etiquetas\n",
    "    X = read_idx(path_imgs)\n",
    "    y = read_idx(path_labels)\n",
    "    # Normalizar las imágenes\n",
    "    X = X.astype(np.float32) / 255.0\n",
    "    # Dividir el dataset en entrenamiento y prueba\n",
    "    X_train, X_test, y_train, y_test = train_test_split(X, y, test_size=0.2, random_state=123)\n",
    "\n",
    "    return X_train, y_train, X_test, y_test"
   ]
  },
  {
   "cell_type": "code",
   "execution_count": 55,
   "id": "2ef6021f",
   "metadata": {},
   "outputs": [
    {
     "name": "stdout",
     "output_type": "stream",
     "text": [
      "Dataset shape: (48000, 28, 28) [n_images,height,width]\n"
     ]
    },
    {
     "data": {
      "image/png": "[encoded data removed]",
      "text/plain": [
       "<Figure size 640x480 with 1 Axes>"
      ]
     },
     "metadata": {},
     "output_type": "display_data"
    }
   ],
   "source": [
    "imgs = './data/train-images.idx3-ubyte'\n",
    "labels = './data/train-labels.idx1-ubyte'\n",
    "\n",
    "pixelsX = 28\n",
    "pixelsY = 28\n",
    "\n",
    "X_train, y_train, X_test, y_test = load_data(imgs, labels)\n",
    "\n",
    "print('Dataset shape:', X_train.shape, \"[n_images,height,width]\")\n",
    "plt.imshow(X_train[0].reshape(pixelsX, pixelsY), cmap='gray')\n",
    "plt.title(f\"Label: {y_train[0]}\")\n",
    "plt.show()"
   ]
  },
  {
   "cell_type": "markdown",
   "id": "c3792afc",
   "metadata": {},
   "source": [
    "# Exercise 2"
   ]
  },
  {
   "cell_type": "code",
   "execution_count": 56,
   "id": "7554d100",
   "metadata": {},
   "outputs": [],
   "source": [
    "\n",
    "def create_model(input_shape, num_classes):\n",
    "    model = keras.models.Sequential()\n",
    "\n",
    "    model.add(keras.layers.Flatten(input_shape=input_shape))\n",
    "    model.add(keras.layers.Dense(units=64, activation='relu'))\n",
    "    model.add(keras.layers.Dense(units=32,activation='relu'))\n",
    "    model.add(keras.layers.Dense(units=16, activation='relu'))\n",
    "    model.add(keras.layers.Dense(units=num_classes, activation='softmax'))\n",
    "    optimizer = keras.optimizers.Adam(learning_rate=0.001)\n",
    "    model.compile(optimizer=optimizer, loss='sparse_categorical_crossentropy',\n",
    "                   metrics=['acc'])\n",
    "    return model"
   ]
  },
  {
   "cell_type": "code",
   "execution_count": 57,
   "id": "6e41f06c",
   "metadata": {},
   "outputs": [
    {
     "name": "stderr",
     "output_type": "stream",
     "text": [
      "c:\\Users\\Ian Salas López\\AppData\\Local\\Programs\\Python\\Python312\\Lib\\site-packages\\keras\\src\\layers\\reshaping\\flatten.py:37: UserWarning: Do not pass an `input_shape`/`input_dim` argument to a layer. When using Sequential models, prefer using an `Input(shape)` object as the first layer in the model instead.\n",
      "  super().__init__(**kwargs)\n"
     ]
    },
    {
     "data": {
      "text/html": [
       "<pre style=\"white-space:pre;overflow-x:auto;line-height:normal;font-family:Menlo,'DejaVu Sans Mono',consolas,'Courier New',monospace\"><span style=\"font-weight: bold\">Model: \"sequential_12\"</span>\n",
       "</pre>\n"
      ],
      "text/plain": [
       "\u001b[1mModel: \"sequential_12\"\u001b[0m\n"
      ]
     },
     "metadata": {},
     "output_type": "display_data"
    },
    {
     "data": {
      "text/html": [
       "<pre style=\"white-space:pre;overflow-x:auto;line-height:normal;font-family:Menlo,'DejaVu Sans Mono',consolas,'Courier New',monospace\">┏━━━━━━━━━━━━━━━━━━━━━━━━━━━━━━━━━┳━━━━━━━━━━━━━━━━━━━━━━━━┳━━━━━━━━━━━━━━━┓\n",
       "┃<span style=\"font-weight: bold\"> Layer (type)                    </span>┃<span style=\"font-weight: bold\"> Output Shape           </span>┃<span style=\"font-weight: bold\">       Param # </span>┃\n",
       "┡━━━━━━━━━━━━━━━━━━━━━━━━━━━━━━━━━╇━━━━━━━━━━━━━━━━━━━━━━━━╇━━━━━━━━━━━━━━━┩\n",
       "│ flatten_12 (<span style=\"color: #0087ff; text-decoration-color: #0087ff\">Flatten</span>)            │ (<span style=\"color: #00d7ff; text-decoration-color: #00d7ff\">None</span>, <span style=\"color: #00af00; text-decoration-color: #00af00\">784</span>)            │             <span style=\"color: #00af00; text-decoration-color: #00af00\">0</span> │\n",
       "├─────────────────────────────────┼────────────────────────┼───────────────┤\n",
       "│ dense_42 (<span style=\"color: #0087ff; text-decoration-color: #0087ff\">Dense</span>)                │ (<span style=\"color: #00d7ff; text-decoration-color: #00d7ff\">None</span>, <span style=\"color: #00af00; text-decoration-color: #00af00\">64</span>)             │        <span style=\"color: #00af00; text-decoration-color: #00af00\">50,240</span> │\n",
       "├─────────────────────────────────┼────────────────────────┼───────────────┤\n",
       "│ dense_43 (<span style=\"color: #0087ff; text-decoration-color: #0087ff\">Dense</span>)                │ (<span style=\"color: #00d7ff; text-decoration-color: #00d7ff\">None</span>, <span style=\"color: #00af00; text-decoration-color: #00af00\">32</span>)             │         <span style=\"color: #00af00; text-decoration-color: #00af00\">2,080</span> │\n",
       "├─────────────────────────────────┼────────────────────────┼───────────────┤\n",
       "│ dense_44 (<span style=\"color: #0087ff; text-decoration-color: #0087ff\">Dense</span>)                │ (<span style=\"color: #00d7ff; text-decoration-color: #00d7ff\">None</span>, <span style=\"color: #00af00; text-decoration-color: #00af00\">16</span>)             │           <span style=\"color: #00af00; text-decoration-color: #00af00\">528</span> │\n",
       "├─────────────────────────────────┼────────────────────────┼───────────────┤\n",
       "│ dense_45 (<span style=\"color: #0087ff; text-decoration-color: #0087ff\">Dense</span>)                │ (<span style=\"color: #00d7ff; text-decoration-color: #00d7ff\">None</span>, <span style=\"color: #00af00; text-decoration-color: #00af00\">10</span>)             │           <span style=\"color: #00af00; text-decoration-color: #00af00\">170</span> │\n",
       "└─────────────────────────────────┴────────────────────────┴───────────────┘\n",
       "</pre>\n"
      ],
      "text/plain": [
       "┏━━━━━━━━━━━━━━━━━━━━━━━━━━━━━━━━━┳━━━━━━━━━━━━━━━━━━━━━━━━┳━━━━━━━━━━━━━━━┓\n",
       "┃\u001b[1m \u001b[0m\u001b[1mLayer (type)                   \u001b[0m\u001b[1m \u001b[0m┃\u001b[1m \u001b[0m\u001b[1mOutput Shape          \u001b[0m\u001b[1m \u001b[0m┃\u001b[1m \u001b[0m\u001b[1m      Param #\u001b[0m\u001b[1m \u001b[0m┃\n",
       "┡━━━━━━━━━━━━━━━━━━━━━━━━━━━━━━━━━╇━━━━━━━━━━━━━━━━━━━━━━━━╇━━━━━━━━━━━━━━━┩\n",
       "│ flatten_12 (\u001b[38;5;33mFlatten\u001b[0m)            │ (\u001b[38;5;45mNone\u001b[0m, \u001b[38;5;34m784\u001b[0m)            │             \u001b[38;5;34m0\u001b[0m │\n",
       "├─────────────────────────────────┼────────────────────────┼───────────────┤\n",
       "│ dense_42 (\u001b[38;5;33mDense\u001b[0m)                │ (\u001b[38;5;45mNone\u001b[0m, \u001b[38;5;34m64\u001b[0m)             │        \u001b[38;5;34m50,240\u001b[0m │\n",
       "├─────────────────────────────────┼────────────────────────┼───────────────┤\n",
       "│ dense_43 (\u001b[38;5;33mDense\u001b[0m)                │ (\u001b[38;5;45mNone\u001b[0m, \u001b[38;5;34m32\u001b[0m)             │         \u001b[38;5;34m2,080\u001b[0m │\n",
       "├─────────────────────────────────┼────────────────────────┼───────────────┤\n",
       "│ dense_44 (\u001b[38;5;33mDense\u001b[0m)                │ (\u001b[38;5;45mNone\u001b[0m, \u001b[38;5;34m16\u001b[0m)             │           \u001b[38;5;34m528\u001b[0m │\n",
       "├─────────────────────────────────┼────────────────────────┼───────────────┤\n",
       "│ dense_45 (\u001b[38;5;33mDense\u001b[0m)                │ (\u001b[38;5;45mNone\u001b[0m, \u001b[38;5;34m10\u001b[0m)             │           \u001b[38;5;34m170\u001b[0m │\n",
       "└─────────────────────────────────┴────────────────────────┴───────────────┘\n"
      ]
     },
     "metadata": {},
     "output_type": "display_data"
    },
    {
     "data": {
      "text/html": [
       "<pre style=\"white-space:pre;overflow-x:auto;line-height:normal;font-family:Menlo,'DejaVu Sans Mono',consolas,'Courier New',monospace\"><span style=\"font-weight: bold\"> Total params: </span><span style=\"color: #00af00; text-decoration-color: #00af00\">53,018</span> (207.10 KB)\n",
       "</pre>\n"
      ],
      "text/plain": [
       "\u001b[1m Total params: \u001b[0m\u001b[38;5;34m53,018\u001b[0m (207.10 KB)\n"
      ]
     },
     "metadata": {},
     "output_type": "display_data"
    },
    {
     "data": {
      "text/html": [
       "<pre style=\"white-space:pre;overflow-x:auto;line-height:normal;font-family:Menlo,'DejaVu Sans Mono',consolas,'Courier New',monospace\"><span style=\"font-weight: bold\"> Trainable params: </span><span style=\"color: #00af00; text-decoration-color: #00af00\">53,018</span> (207.10 KB)\n",
       "</pre>\n"
      ],
      "text/plain": [
       "\u001b[1m Trainable params: \u001b[0m\u001b[38;5;34m53,018\u001b[0m (207.10 KB)\n"
      ]
     },
     "metadata": {},
     "output_type": "display_data"
    },
    {
     "data": {
      "text/html": [
       "<pre style=\"white-space:pre;overflow-x:auto;line-height:normal;font-family:Menlo,'DejaVu Sans Mono',consolas,'Courier New',monospace\"><span style=\"font-weight: bold\"> Non-trainable params: </span><span style=\"color: #00af00; text-decoration-color: #00af00\">0</span> (0.00 B)\n",
       "</pre>\n"
      ],
      "text/plain": [
       "\u001b[1m Non-trainable params: \u001b[0m\u001b[38;5;34m0\u001b[0m (0.00 B)\n"
      ]
     },
     "metadata": {},
     "output_type": "display_data"
    }
   ],
   "source": [
    "create_model((28, 28), 10).summary()"
   ]
  },
  {
   "cell_type": "markdown",
   "id": "2ade17d2",
   "metadata": {},
   "source": [
    "# Exercise 3"
   ]
  },
  {
   "cell_type": "code",
   "execution_count": 58,
   "id": "b8bd4fa6",
   "metadata": {},
   "outputs": [
    {
     "name": "stdout",
     "output_type": "stream",
     "text": [
      "Epoch 1/10\n",
      "1500/1500 - 5s - 4ms/step - acc: 0.8894 - loss: 0.3783 - val_acc: 0.9431 - val_loss: 0.1879\n",
      "Epoch 2/10\n",
      "1500/1500 - 4s - 2ms/step - acc: 0.9538 - loss: 0.1553 - val_acc: 0.9563 - val_loss: 0.1491\n",
      "Epoch 3/10\n",
      "1500/1500 - 4s - 3ms/step - acc: 0.9663 - loss: 0.1125 - val_acc: 0.9652 - val_loss: 0.1141\n",
      "Epoch 4/10\n",
      "1500/1500 - 3s - 2ms/step - acc: 0.9731 - loss: 0.0900 - val_acc: 0.9610 - val_loss: 0.1280\n",
      "Epoch 5/10\n",
      "1500/1500 - 4s - 2ms/step - acc: 0.9765 - loss: 0.0753 - val_acc: 0.9665 - val_loss: 0.1083\n",
      "Epoch 6/10\n",
      "1500/1500 - 4s - 2ms/step - acc: 0.9799 - loss: 0.0634 - val_acc: 0.9688 - val_loss: 0.1060\n",
      "Epoch 7/10\n",
      "1500/1500 - 4s - 3ms/step - acc: 0.9821 - loss: 0.0556 - val_acc: 0.9650 - val_loss: 0.1162\n",
      "Epoch 8/10\n",
      "1500/1500 - 4s - 2ms/step - acc: 0.9850 - loss: 0.0469 - val_acc: 0.9690 - val_loss: 0.1069\n",
      "Epoch 9/10\n",
      "1500/1500 - 4s - 2ms/step - acc: 0.9859 - loss: 0.0425 - val_acc: 0.9705 - val_loss: 0.1139\n",
      "Epoch 10/10\n",
      "1500/1500 - 4s - 2ms/step - acc: 0.9884 - loss: 0.0359 - val_acc: 0.9696 - val_loss: 0.1157\n"
     ]
    }
   ],
   "source": [
    "# Crea una función que entrene tu modelo.\n",
    "def train_model(model, train_data, test_data, batch_size=32, epochs=10):\n",
    "\n",
    "    history = model.fit(train_data[0], train_data[1], validation_data=test_data,batch_size=batch_size,\n",
    "                        epochs=epochs, verbose=2)\n",
    "    return history\n",
    "\n",
    "## Llama a tu función load_data()\n",
    "X_train, y_train, X_test, y_test = load_data(path_imgs=imgs, path_labels=labels)\n",
    "\n",
    "# crea y entrena el modelo\n",
    "model = create_model(input_shape=(pixelsX, pixelsY), num_classes=10)\n",
    "trained_model = train_model(\n",
    "                  model,\n",
    "                  train_data=(X_train, y_train),\n",
    "                  test_data=(X_test,y_test),\n",
    "                  batch_size=32,\n",
    "                  epochs=10\n",
    "                  )"
   ]
  },
  {
   "cell_type": "code",
   "execution_count": 59,
   "id": "fb144a26",
   "metadata": {},
   "outputs": [],
   "source": [
    "def convolve(sequence, weights):\n",
    "    convolution = np.zeros(len(sequence) - len(weights) + 1)\n",
    "    for i in range(convolution.shape[0]):\n",
    "        convolution[i] = np.sum(\n",
    "            np.array(weights) * np.array(sequence[i : i + len(weights)])\n",
    "        )\n",
    "    return convolution"
   ]
  },
  {
   "cell_type": "code",
   "execution_count": 60,
   "id": "fce43157",
   "metadata": {},
   "outputs": [],
   "source": [
    "s = [1, 5, 6]\n",
    "w = [1,   2]"
   ]
  },
  {
   "cell_type": "code",
   "execution_count": 61,
   "id": "f38c56aa",
   "metadata": {},
   "outputs": [
    {
     "data": {
      "text/plain": [
       "array([11., 17.])"
      ]
     },
     "execution_count": 61,
     "metadata": {},
     "output_type": "execute_result"
    }
   ],
   "source": [
    "convolve(s,w)"
   ]
  }
 ],
 "metadata": {
  "kernelspec": {
   "display_name": "Python 3",
   "language": "python",
   "name": "python3"
  },
  "language_info": {
   "codemirror_mode": {
    "name": "ipython",
    "version": 3
   },
   "file_extension": ".py",
   "mimetype": "text/x-python",
   "name": "python",
   "nbconvert_exporter": "python",
   "pygments_lexer": "ipython3",
   "version": "3.12.10"
  }
 },
 "nbformat": 4,
 "nbformat_minor": 5
}
