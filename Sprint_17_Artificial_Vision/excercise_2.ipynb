{
 "cells": [
  {
   "cell_type": "code",
   "execution_count": 1,
   "id": "8dfc9d9c",
   "metadata": {},
   "outputs": [],
   "source": [
    "from tensorflow.keras.datasets import fashion_mnist\n",
    "from tensorflow.keras.layers import Conv2D, Flatten, Dense, AvgPool2D\n",
    "from tensorflow.keras.models import Sequential\n",
    "from tensorflow.keras.optimizers import Adam\n",
    "import numpy as np"
   ]
  },
  {
   "cell_type": "code",
   "execution_count": 2,
   "id": "b0990591",
   "metadata": {},
   "outputs": [],
   "source": [
    "def load_data():\n",
    "    (features_train, target_train), (features_test, target_test) = fashion_mnist.load_data()\n",
    "    features_train = features_train.reshape(-1, 28, 28, 1) / 255.0\n",
    "    features_test = features_test.reshape(-1, 28, 28, 1) / 255.0\n",
    "    return (features_train, target_train), (features_test, target_test)"
   ]
  },
  {
   "cell_type": "code",
   "execution_count": null,
   "id": "3c9b3679",
   "metadata": {},
   "outputs": [],
   "source": [
    "\n",
    "def create_model(input_shape):\n",
    "    model = Sequential()\n",
    "\n",
    "    # Añade la primera capa convolucional aquí\n",
    "\n",
    "    model.add(Conv2D(filters=6, kernel_size=(5, 5), padding='same', activation='relu', input_shape=input_shape))\n",
    "\n",
    "    model.add(AvgPool2D(pool_size=(2, 2)))\n",
    "\n",
    "    # Añade la segunda capa convolucional aquí\n",
    "    model.add(Conv2D(filters=16, kernel_size=(5, 5), padding='valid', activation='relu'))\n",
    "\n",
    "    model.add(AvgPool2D(pool_size=(2, 2)))\n",
    "\n",
    "    # Añade una capa flatten aquí\n",
    "    model.add(Flatten())\n",
    "\n",
    "    model.add(Dense(120, activation='relu'))\n",
    "    model.add(Dense(84, activation='relu'))\n",
    "    model.add(Dense(10, activation='softmax'))\n",
    "\n",
    "    optimizer = Adam(learning_rate=0.0001)\n",
    "\n",
    "    model.compile(\n",
    "        optimizer= optimizer,\n",
    "        loss='sparse_categorical_crossentropy',\n",
    "        metrics=['acc'],\n",
    "    )\n",
    "\n",
    "    return model"
   ]
  },
  {
   "cell_type": "code",
   "execution_count": 4,
   "id": "f47d29dd",
   "metadata": {},
   "outputs": [],
   "source": [
    "def train_model(\n",
    "        model,\n",
    "        train_data,\n",
    "        test_data,\n",
    "        batch_size=32,\n",
    "        epochs=5,\n",
    "        steps_per_epoch=None,\n",
    "        validation_steps=None,\n",
    "):\n",
    "\n",
    "    features_train, target_train = train_data\n",
    "    features_test, target_test = test_data\n",
    "\n",
    "    model.fit(\n",
    "        features_train,\n",
    "        target_train,\n",
    "        validation_data=(features_test, target_test),\n",
    "        batch_size=batch_size,\n",
    "        epochs=epochs,\n",
    "        steps_per_epoch=steps_per_epoch,\n",
    "        validation_steps=validation_steps,\n",
    "        verbose=2,\n",
    "        shuffle=True,\n",
    "    )\n",
    "\n",
    "    return model"
   ]
  },
  {
   "cell_type": "code",
   "execution_count": 5,
   "id": "cf71fd2a",
   "metadata": {},
   "outputs": [
    {
     "name": "stdout",
     "output_type": "stream",
     "text": [
      "Downloading data from https://storage.googleapis.com/tensorflow/tf-keras-datasets/train-labels-idx1-ubyte.gz\n",
      "\u001b[1m29515/29515\u001b[0m \u001b[32m━━━━━━━━━━━━━━━━━━━━\u001b[0m\u001b[37m\u001b[0m \u001b[1m0s\u001b[0m 2us/step\n",
      "Downloading data from https://storage.googleapis.com/tensorflow/tf-keras-datasets/train-images-idx3-ubyte.gz\n",
      "\u001b[1m26421880/26421880\u001b[0m \u001b[32m━━━━━━━━━━━━━━━━━━━━\u001b[0m\u001b[37m\u001b[0m \u001b[1m5s\u001b[0m 0us/step\n",
      "Downloading data from https://storage.googleapis.com/tensorflow/tf-keras-datasets/t10k-labels-idx1-ubyte.gz\n",
      "\u001b[1m5148/5148\u001b[0m \u001b[32m━━━━━━━━━━━━━━━━━━━━\u001b[0m\u001b[37m\u001b[0m \u001b[1m0s\u001b[0m 69us/step\n",
      "Downloading data from https://storage.googleapis.com/tensorflow/tf-keras-datasets/t10k-images-idx3-ubyte.gz\n",
      "\u001b[1m4422102/4422102\u001b[0m \u001b[32m━━━━━━━━━━━━━━━━━━━━\u001b[0m\u001b[37m\u001b[0m \u001b[1m0s\u001b[0m 0us/step\n"
     ]
    },
    {
     "name": "stderr",
     "output_type": "stream",
     "text": [
      "c:\\Users\\Ian Salas López\\AppData\\Local\\Programs\\Python\\Python312\\Lib\\site-packages\\keras\\src\\layers\\convolutional\\base_conv.py:113: UserWarning: Do not pass an `input_shape`/`input_dim` argument to a layer. When using Sequential models, prefer using an `Input(shape)` object as the first layer in the model instead.\n",
      "  super().__init__(activity_regularizer=activity_regularizer, **kwargs)\n"
     ]
    },
    {
     "name": "stdout",
     "output_type": "stream",
     "text": [
      "Epoch 1/2\n",
      "1875/1875 - 10s - 6ms/step - acc: 0.7006 - loss: 0.8290 - val_acc: 0.7620 - val_loss: 0.6428\n",
      "Epoch 2/2\n",
      "1875/1875 - 9s - 5ms/step - acc: 0.7839 - loss: 0.5818 - val_acc: 0.7886 - val_loss: 0.5675\n"
     ]
    }
   ],
   "source": [
    "train_data, test_data = load_data()\n",
    "input_shape = (28, 28, 1)\n",
    "model = create_model(input_shape)\n",
    "\n",
    "model_fitted = train_model(model,\n",
    "                           train_data,\n",
    "                           test_data,\n",
    "                           epochs=2\n",
    "                           )"
   ]
  },
  {
   "cell_type": "code",
   "execution_count": null,
   "id": "88815212",
   "metadata": {},
   "outputs": [],
   "source": []
  }
 ],
 "metadata": {
  "kernelspec": {
   "display_name": "Python 3",
   "language": "python",
   "name": "python3"
  },
  "language_info": {
   "codemirror_mode": {
    "name": "ipython",
    "version": 3
   },
   "file_extension": ".py",
   "mimetype": "text/x-python",
   "name": "python",
   "nbconvert_exporter": "python",
   "pygments_lexer": "ipython3",
   "version": "3.12.10"
  }
 },
 "nbformat": 4,
 "nbformat_minor": 5
}
