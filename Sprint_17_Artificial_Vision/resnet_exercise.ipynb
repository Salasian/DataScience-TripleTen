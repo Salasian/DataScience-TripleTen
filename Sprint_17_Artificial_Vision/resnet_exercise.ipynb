{
 "cells": [
  {
   "cell_type": "code",
   "execution_count": 8,
   "id": "196cebd6",
   "metadata": {},
   "outputs": [],
   "source": [
    "from tensorflow.keras.layers import GlobalAveragePooling2D, Dense, Flatten\n",
    "from tensorflow.keras.models import Sequential\n",
    "from tensorflow.keras.applications.resnet import ResNet50\n",
    "from tensorflow.keras.preprocessing.image import ImageDataGenerator\n",
    "from tensorflow.keras.optimizers import Adam"
   ]
  },
  {
   "cell_type": "code",
   "execution_count": null,
   "id": "661b5155",
   "metadata": {},
   "outputs": [],
   "source": [
    "def load_data(path, width, height, batch_size):\n",
    "    # cuando crees tu generador de datos, agrega reescalamiento, así como volteo horizontal y vertical.\n",
    "        # revisa la documentación de Keras para más técnicas\n",
    "    train_datagen = ImageDataGenerator(\n",
    "        rescale=1./255,\n",
    "        horizontal_flip=True,\n",
    "        vertical_flip=True\n",
    "    )\n",
    "\n",
    "    train_generator = train_datagen.flow_from_directory(\n",
    "                                                        path,\n",
    "                                                        target_size=(width, height),\n",
    "                                                        batch_size=batch_size,\n",
    "                                                        class_mode='categorical',\n",
    "                                                        seed=12345,\n",
    "                                                      )\n",
    "    return train_generator"
   ]
  },
  {
   "cell_type": "code",
   "execution_count": null,
   "id": "ce406418",
   "metadata": {},
   "outputs": [],
   "source": [
    "def create_resnet_model(input_shape):\n",
    "    backbone = ResNet50(\n",
    "        include_top=False,  # No incluimos la capa de clasificación final\n",
    "        weights='imagenet',  # Cargamos los pesos preentrenados en ImageNet\n",
    "        input_shape=input_shape\n",
    "    )\n",
    "    # usaremos un modelo previamente entrenado con sus parámetros aprendidos como funciones para entrenar nuestro nuevo modelo\n",
    "    for layer in backbone.layers:\n",
    "        layer.trainable = False\n",
    "\n",
    "    # Construyamos nuestro nuevo modelo capa por capa. Comienza utilizando la capa secuencial; después\n",
    "    # agrega el backbone, una capa que aplana nuestra matriz en vectores y, por último, el\n",
    "    # encabezado de la clasificación.  No olvides ajustar el número de clases que tu modelo\n",
    "    # debe manejar\n",
    "\n",
    "    model = Sequential()\n",
    "    model.add(backbone)# aquí va tu modelo de preentrenamiento\n",
    "    model.add(GlobalAveragePooling2D()) # aquí va la capa que aplana tu modelo de salida de preentrenamiento\n",
    "    model.add(Dense(15, activation='softmax'))# aquí va tu encabezado de clasificación\n",
    "\n",
    "    ## Define un optimizador de tu elección. No olvides pasar un\n",
    "    # parámetro learning_rate adecuado.\n",
    "\n",
    "    optimizer = Adam(learning_rate=0.001)  # Ajusta el learning rate según sea necesario\n",
    "\n",
    "    ## compila tu modelo\n",
    "    model.compile(optimizer=optimizer, loss='sparse_categorical_crossentropy', metrics=['accuracy'])\n",
    "\n",
    "    return model"
   ]
  },
  {
   "cell_type": "code",
   "execution_count": 29,
   "id": "f5320fe2",
   "metadata": {},
   "outputs": [],
   "source": [
    "def train_model(model, train_data, val_data, epochs=10):\n",
    "    model.fit(train_data, validation_data=val_data, epochs=epochs, verbose=2)\n",
    "    return model"
   ]
  },
  {
   "cell_type": "code",
   "execution_count": null,
   "id": "efc3936f",
   "metadata": {},
   "outputs": [
    {
     "name": "stdout",
     "output_type": "stream",
     "text": [
      "Found 49012 images belonging to 15 classes.\n",
      "Found 4989 images belonging to 15 classes.\n",
      "Train samples found: 49012\n",
      "Validation samples found: 4989\n",
      "Epoch 1/10\n",
      "3064/3064 - 1594s - 520ms/step - accuracy: 0.2970 - loss: 2.2804 - val_accuracy: 0.1499 - val_loss: 2.4954\n",
      "Epoch 2/10\n",
      "3064/3064 - 1574s - 514ms/step - accuracy: 0.3490 - loss: 2.0897 - val_accuracy: 0.1958 - val_loss: 2.3769\n",
      "Epoch 3/10\n",
      "3064/3064 - 1687s - 551ms/step - accuracy: 0.3791 - loss: 1.9872 - val_accuracy: 0.2173 - val_loss: 2.2967\n",
      "Epoch 4/10\n",
      "3064/3064 - 1657s - 541ms/step - accuracy: 0.3984 - loss: 1.9183 - val_accuracy: 0.2489 - val_loss: 2.2342\n",
      "Epoch 5/10\n"
     ]
    }
   ],
   "source": [
    "## Parámetros\n",
    "# Dependiendo de tu máquina, puedes jugar con los parámetros de ancho y alto\n",
    "# para un entrenamiento más rápido\n",
    "width = 160\n",
    "height = 128\n",
    "batch_size = 16\n",
    "input_shape = (width, height,3)\n",
    "\n",
    "## Datos almacenados\n",
    "path_train = './data/fruits/train_data/'\n",
    "path_val = './data/fruits/test_data/'\n",
    "\n",
    "# Carga los datos de entrenamiento y validación\n",
    "train_gen = load_data(path_train, width, height , batch_size)\n",
    "val_gen = load_data(path_val, width, height , batch_size)\n",
    "\n",
    "print(f\"Train samples found: {train_gen.samples}\")\n",
    "print(f\"Validation samples found: {val_gen.samples}\")\n",
    "\n",
    "# Crea y entrena el modelo simple\n",
    "model = create_resnet_model(input_shape)\n",
    "trained_model = train_model(model, train_gen, val_gen, epochs=10)"
   ]
  },
  {
   "cell_type": "code",
   "execution_count": null,
   "id": "ea17d1d6",
   "metadata": {},
   "outputs": [],
   "source": []
  }
 ],
 "metadata": {
  "kernelspec": {
   "display_name": "Python 3",
   "language": "python",
   "name": "python3"
  },
  "language_info": {
   "codemirror_mode": {
    "name": "ipython",
    "version": 3
   },
   "file_extension": ".py",
   "mimetype": "text/x-python",
   "name": "python",
   "nbconvert_exporter": "python",
   "pygments_lexer": "ipython3",
   "version": "3.12.10"
  }
 },
 "nbformat": 4,
 "nbformat_minor": 5
}
