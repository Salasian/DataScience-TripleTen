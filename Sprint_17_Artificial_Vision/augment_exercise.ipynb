{
 "cells": [
  {
   "cell_type": "code",
   "execution_count": 1,
   "id": "a4ad5bef",
   "metadata": {},
   "outputs": [],
   "source": [
    "from tensorflow.keras.preprocessing.image import ImageDataGenerator\n",
    "from tensorflow.keras.layers import Conv2D, Flatten, Dense, AvgPool2D, MaxPooling2D\n",
    "from tensorflow.keras.models import Sequential\n",
    "from tensorflow.keras.optimizers import Adam\n",
    "import numpy as np"
   ]
  },
  {
   "cell_type": "code",
   "execution_count": 2,
   "id": "62e75a3f",
   "metadata": {},
   "outputs": [],
   "source": [
    "\n",
    "def load_data(path):\n",
    "    datagen = ImageDataGenerator(\n",
    "        rescale = 1/255,\n",
    "        horizontal_flip=True,\n",
    "        vertical_flip=True\n",
    "        )\n",
    "\n",
    "    data_datagen_flow = datagen.flow_from_directory(\n",
    "        path,\n",
    "        target_size=(150,150),\n",
    "        class_mode='sparse',\n",
    "        batch_size=16,\n",
    "        seed=1234\n",
    "      )\n",
    "\n",
    "    return data_datagen_flow"
   ]
  },
  {
   "cell_type": "code",
   "execution_count": 11,
   "id": "c5d0c63a",
   "metadata": {},
   "outputs": [],
   "source": [
    "def create_model(input_shape):\n",
    "\n",
    "    model = Sequential()\n",
    "\n",
    "    model.add(Conv2D(6, (5, 5), padding='same', activation='relu',\n",
    "                     input_shape=input_shape))\n",
    "\n",
    "    # Añade una capa pooling aquí (MaxPool2D o AvgPool2D)\n",
    "    model.add(AvgPool2D(pool_size=(2,2)))\n",
    "\n",
    "    model.add(Conv2D(16, (5, 5), padding='valid', activation='relu'))\n",
    "\n",
    "    # Añade una capa pooling aquí (MaxPool2D o AvgPool2D)\n",
    "    model.add(AvgPool2D(pool_size=(2,2)))\n",
    "\n",
    "    model.add(Conv2D(16, (5, 5), padding='valid', activation='relu'))\n",
    "\n",
    "    # Añade una capa pooling aquí (MaxPool2D o AvgPool2D)\n",
    "    model.add(MaxPooling2D(pool_size=(2,2)))\n",
    "\n",
    "    # Añade una capa flatten aquí\n",
    "    model.add(Flatten())\n",
    "\n",
    "    # Añade 3 capas dense aquí\n",
    "    model.add(Dense(units=120, activation='relu'))\n",
    "    model.add(Dense(units=84, activation='relu'))\n",
    "    model.add(Dense(units=15, activation='softmax'))\n",
    "\n",
    "    optimizer = Adam(learning_rate=0.0001)\n",
    "\n",
    "    model.compile(optimizer=optimizer, loss='sparse_categorical_crossentropy', metrics=['acc'])\n",
    "\n",
    "    return model"
   ]
  },
  {
   "cell_type": "code",
   "execution_count": 12,
   "id": "1d272795",
   "metadata": {},
   "outputs": [],
   "source": [
    "def train_model(model, train_data, test_data, batch_size=None, epochs=10, steps_per_epoch=None, validation_steps=None):\n",
    "    history = model.fit(\n",
    "        train_data,\n",
    "        validation_data=test_data,\n",
    "        batch_size=batch_size,\n",
    "        epochs=epochs,\n",
    "        steps_per_epoch=steps_per_epoch,\n",
    "        validation_steps=validation_steps\n",
    "    )\n",
    "\n",
    "    return history"
   ]
  },
  {
   "cell_type": "code",
   "execution_count": 13,
   "id": "60ac373a",
   "metadata": {},
   "outputs": [
    {
     "name": "stdout",
     "output_type": "stream",
     "text": [
      "Found 49012 images belonging to 15 classes.\n",
      "Found 4989 images belonging to 15 classes.\n",
      "Epoch 1/10\n",
      "\u001b[1m3064/3064\u001b[0m \u001b[32m━━━━━━━━━━━━━━━━━━━━\u001b[0m\u001b[37m\u001b[0m \u001b[1m737s\u001b[0m 240ms/step - acc: 0.4673 - loss: 1.6588 - val_acc: 0.7809 - val_loss: 0.6217\n",
      "Epoch 2/10\n",
      "\u001b[1m3064/3064\u001b[0m \u001b[32m━━━━━━━━━━━━━━━━━━━━\u001b[0m\u001b[37m\u001b[0m \u001b[1m259s\u001b[0m 84ms/step - acc: 0.8317 - loss: 0.4976 - val_acc: 0.8457 - val_loss: 0.4582\n",
      "Epoch 3/10\n",
      "\u001b[1m3064/3064\u001b[0m \u001b[32m━━━━━━━━━━━━━━━━━━━━\u001b[0m\u001b[37m\u001b[0m \u001b[1m265s\u001b[0m 86ms/step - acc: 0.8893 - loss: 0.3230 - val_acc: 0.8705 - val_loss: 0.3630\n",
      "Epoch 4/10\n",
      "\u001b[1m3064/3064\u001b[0m \u001b[32m━━━━━━━━━━━━━━━━━━━━\u001b[0m\u001b[37m\u001b[0m \u001b[1m264s\u001b[0m 86ms/step - acc: 0.9149 - loss: 0.2497 - val_acc: 0.8795 - val_loss: 0.3142\n",
      "Epoch 5/10\n",
      "\u001b[1m3064/3064\u001b[0m \u001b[32m━━━━━━━━━━━━━━━━━━━━\u001b[0m\u001b[37m\u001b[0m \u001b[1m266s\u001b[0m 87ms/step - acc: 0.9301 - loss: 0.1979 - val_acc: 0.8952 - val_loss: 0.3003\n",
      "Epoch 6/10\n",
      "\u001b[1m3064/3064\u001b[0m \u001b[32m━━━━━━━━━━━━━━━━━━━━\u001b[0m\u001b[37m\u001b[0m \u001b[1m257s\u001b[0m 84ms/step - acc: 0.9408 - loss: 0.1665 - val_acc: 0.9192 - val_loss: 0.2225\n",
      "Epoch 7/10\n",
      "\u001b[1m3064/3064\u001b[0m \u001b[32m━━━━━━━━━━━━━━━━━━━━\u001b[0m\u001b[37m\u001b[0m \u001b[1m254s\u001b[0m 83ms/step - acc: 0.9461 - loss: 0.1486 - val_acc: 0.9278 - val_loss: 0.2047\n",
      "Epoch 8/10\n",
      "\u001b[1m3064/3064\u001b[0m \u001b[32m━━━━━━━━━━━━━━━━━━━━\u001b[0m\u001b[37m\u001b[0m \u001b[1m252s\u001b[0m 82ms/step - acc: 0.9541 - loss: 0.1280 - val_acc: 0.9186 - val_loss: 0.2357\n",
      "Epoch 9/10\n",
      "\u001b[1m3064/3064\u001b[0m \u001b[32m━━━━━━━━━━━━━━━━━━━━\u001b[0m\u001b[37m\u001b[0m \u001b[1m251s\u001b[0m 82ms/step - acc: 0.9571 - loss: 0.1230 - val_acc: 0.9156 - val_loss: 0.2346\n",
      "Epoch 10/10\n",
      "\u001b[1m3064/3064\u001b[0m \u001b[32m━━━━━━━━━━━━━━━━━━━━\u001b[0m\u001b[37m\u001b[0m \u001b[1m250s\u001b[0m 82ms/step - acc: 0.9623 - loss: 0.1053 - val_acc: 0.9232 - val_loss: 0.2126\n"
     ]
    }
   ],
   "source": [
    "input_shape = (150, 150, 3)\n",
    "\n",
    "train = load_data('./data/fruits/train_data/')\n",
    "test = load_data('./data/fruits/test_data/')\n",
    "model = create_model(input_shape)\n",
    "model = train_model(model, train, test)"
   ]
  },
  {
   "cell_type": "code",
   "execution_count": null,
   "id": "62b88ee7",
   "metadata": {},
   "outputs": [],
   "source": []
  }
 ],
 "metadata": {
  "kernelspec": {
   "display_name": "Python 3",
   "language": "python",
   "name": "python3"
  },
  "language_info": {
   "codemirror_mode": {
    "name": "ipython",
    "version": 3
   },
   "file_extension": ".py",
   "mimetype": "text/x-python",
   "name": "python",
   "nbconvert_exporter": "python",
   "pygments_lexer": "ipython3",
   "version": "3.12.10"
  }
 },
 "nbformat": 4,
 "nbformat_minor": 5
}
