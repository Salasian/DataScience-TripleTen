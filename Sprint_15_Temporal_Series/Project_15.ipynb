{
 "cells": [
  {
   "cell_type": "markdown",
   "id": "33b1ec38",
   "metadata": {},
   "source": [
    "# Project Description\n",
    "\n",
    "Sweet Lift Taxi Company has collected historical data on cab orders at airports. To attract more drivers during peak hours, we need to predict the amount of cab orders for the next hour. Build a model for such a prediction.\n",
    "\n",
    "The RECM metric in the test set should be no more than 48.\n",
    "\n",
    "## Project instructions.\n",
    "\n",
    "1. Download the data and resample for one hour.\n",
    "2. Analyze the data.\n",
    "3. Train different models with different hyperparameters. The test sample should be 10% of the initial data set. Test the data using the test sample and provide a conclusion.\n",
    "\n",
    "## Description of the data\n",
    "\n",
    "The data is stored in the `taxi.csv` file. \t\n",
    "The number of orders is in the `num_orders` column."
   ]
  },
  {
   "cell_type": "markdown",
   "id": "f071cfa2",
   "metadata": {},
   "source": [
    "## Preparation"
   ]
  },
  {
   "cell_type": "markdown",
   "id": "190b8f81",
   "metadata": {},
   "source": [
    "We are starting by importing all the libraries we are going to us on the span of all the project"
   ]
  },
  {
   "cell_type": "code",
   "execution_count": 1,
   "id": "5fee2099",
   "metadata": {},
   "outputs": [],
   "source": [
    "# Pandas for dataset management\n",
    "import pandas as pd\n",
    "# Sklearn for machine learning practices and modelling\n",
    "from sklearn.linear_model import LinearRegression\n",
    "from sklearn import metrics as skmet\n",
    "from sklearn.model_selection import train_test_split\n",
    "from sklearn.utils import shuffle\n",
    "# LightGBM for gradient boosting\n",
    "import lightgbm as lgb\n",
    "from lightgbm import LGBMRegressor\n",
    "# XGBoost for the XGBoost algorithm\n",
    "from xgboost import XGBRegressor\n",
    "# Plotly for showing the data in dynamic graphics\n",
    "import matplotlib.pyplot as plt\n",
    "# Numpy for specific numeric operations\n",
    "import numpy as np"
   ]
  },
  {
   "cell_type": "markdown",
   "id": "e17db620",
   "metadata": {},
   "source": [
    "Then we load the data from our csv file and transform it into a dataframe"
   ]
  },
  {
   "cell_type": "code",
   "execution_count": 2,
   "id": "e2e45f5d",
   "metadata": {},
   "outputs": [],
   "source": [
    "df = pd.read_csv('dataset/taxi.csv',parse_dates=[0], index_col='datetime')"
   ]
  },
  {
   "cell_type": "markdown",
   "id": "e305a3a9",
   "metadata": {},
   "source": [
    "Show out dataframe"
   ]
  },
  {
   "cell_type": "code",
   "execution_count": 3,
   "id": "22b6d0ea",
   "metadata": {},
   "outputs": [
    {
     "data": {
      "text/html": [
       "<div>\n",
       "<style scoped>\n",
       "    .dataframe tbody tr th:only-of-type {\n",
       "        vertical-align: middle;\n",
       "    }\n",
       "\n",
       "    .dataframe tbody tr th {\n",
       "        vertical-align: top;\n",
       "    }\n",
       "\n",
       "    .dataframe thead th {\n",
       "        text-align: right;\n",
       "    }\n",
       "</style>\n",
       "<table border=\"1\" class=\"dataframe\">\n",
       "  <thead>\n",
       "    <tr style=\"text-align: right;\">\n",
       "      <th></th>\n",
       "      <th>num_orders</th>\n",
       "    </tr>\n",
       "    <tr>\n",
       "      <th>datetime</th>\n",
       "      <th></th>\n",
       "    </tr>\n",
       "  </thead>\n",
       "  <tbody>\n",
       "    <tr>\n",
       "      <th>2018-03-01 00:00:00</th>\n",
       "      <td>9</td>\n",
       "    </tr>\n",
       "    <tr>\n",
       "      <th>2018-03-01 00:10:00</th>\n",
       "      <td>14</td>\n",
       "    </tr>\n",
       "    <tr>\n",
       "      <th>2018-03-01 00:20:00</th>\n",
       "      <td>28</td>\n",
       "    </tr>\n",
       "    <tr>\n",
       "      <th>2018-03-01 00:30:00</th>\n",
       "      <td>20</td>\n",
       "    </tr>\n",
       "    <tr>\n",
       "      <th>2018-03-01 00:40:00</th>\n",
       "      <td>32</td>\n",
       "    </tr>\n",
       "    <tr>\n",
       "      <th>...</th>\n",
       "      <td>...</td>\n",
       "    </tr>\n",
       "    <tr>\n",
       "      <th>2018-08-31 23:10:00</th>\n",
       "      <td>32</td>\n",
       "    </tr>\n",
       "    <tr>\n",
       "      <th>2018-08-31 23:20:00</th>\n",
       "      <td>24</td>\n",
       "    </tr>\n",
       "    <tr>\n",
       "      <th>2018-08-31 23:30:00</th>\n",
       "      <td>27</td>\n",
       "    </tr>\n",
       "    <tr>\n",
       "      <th>2018-08-31 23:40:00</th>\n",
       "      <td>39</td>\n",
       "    </tr>\n",
       "    <tr>\n",
       "      <th>2018-08-31 23:50:00</th>\n",
       "      <td>53</td>\n",
       "    </tr>\n",
       "  </tbody>\n",
       "</table>\n",
       "<p>26496 rows × 1 columns</p>\n",
       "</div>"
      ],
      "text/plain": [
       "                     num_orders\n",
       "datetime                       \n",
       "2018-03-01 00:00:00           9\n",
       "2018-03-01 00:10:00          14\n",
       "2018-03-01 00:20:00          28\n",
       "2018-03-01 00:30:00          20\n",
       "2018-03-01 00:40:00          32\n",
       "...                         ...\n",
       "2018-08-31 23:10:00          32\n",
       "2018-08-31 23:20:00          24\n",
       "2018-08-31 23:30:00          27\n",
       "2018-08-31 23:40:00          39\n",
       "2018-08-31 23:50:00          53\n",
       "\n",
       "[26496 rows x 1 columns]"
      ]
     },
     "execution_count": 3,
     "metadata": {},
     "output_type": "execute_result"
    }
   ],
   "source": [
    "df"
   ]
  },
  {
   "cell_type": "markdown",
   "id": "ff137301",
   "metadata": {},
   "source": [
    "Resample dataframe to hours"
   ]
  },
  {
   "cell_type": "code",
   "execution_count": 4,
   "id": "53cf2466",
   "metadata": {},
   "outputs": [
    {
     "data": {
      "text/html": [
       "<div>\n",
       "<style scoped>\n",
       "    .dataframe tbody tr th:only-of-type {\n",
       "        vertical-align: middle;\n",
       "    }\n",
       "\n",
       "    .dataframe tbody tr th {\n",
       "        vertical-align: top;\n",
       "    }\n",
       "\n",
       "    .dataframe thead th {\n",
       "        text-align: right;\n",
       "    }\n",
       "</style>\n",
       "<table border=\"1\" class=\"dataframe\">\n",
       "  <thead>\n",
       "    <tr style=\"text-align: right;\">\n",
       "      <th></th>\n",
       "      <th>num_orders</th>\n",
       "    </tr>\n",
       "    <tr>\n",
       "      <th>datetime</th>\n",
       "      <th></th>\n",
       "    </tr>\n",
       "  </thead>\n",
       "  <tbody>\n",
       "    <tr>\n",
       "      <th>2018-03-01 00:00:00</th>\n",
       "      <td>124</td>\n",
       "    </tr>\n",
       "    <tr>\n",
       "      <th>2018-03-01 01:00:00</th>\n",
       "      <td>85</td>\n",
       "    </tr>\n",
       "    <tr>\n",
       "      <th>2018-03-01 02:00:00</th>\n",
       "      <td>71</td>\n",
       "    </tr>\n",
       "    <tr>\n",
       "      <th>2018-03-01 03:00:00</th>\n",
       "      <td>66</td>\n",
       "    </tr>\n",
       "    <tr>\n",
       "      <th>2018-03-01 04:00:00</th>\n",
       "      <td>43</td>\n",
       "    </tr>\n",
       "    <tr>\n",
       "      <th>...</th>\n",
       "      <td>...</td>\n",
       "    </tr>\n",
       "    <tr>\n",
       "      <th>2018-08-31 19:00:00</th>\n",
       "      <td>136</td>\n",
       "    </tr>\n",
       "    <tr>\n",
       "      <th>2018-08-31 20:00:00</th>\n",
       "      <td>154</td>\n",
       "    </tr>\n",
       "    <tr>\n",
       "      <th>2018-08-31 21:00:00</th>\n",
       "      <td>159</td>\n",
       "    </tr>\n",
       "    <tr>\n",
       "      <th>2018-08-31 22:00:00</th>\n",
       "      <td>223</td>\n",
       "    </tr>\n",
       "    <tr>\n",
       "      <th>2018-08-31 23:00:00</th>\n",
       "      <td>205</td>\n",
       "    </tr>\n",
       "  </tbody>\n",
       "</table>\n",
       "<p>4416 rows × 1 columns</p>\n",
       "</div>"
      ],
      "text/plain": [
       "                     num_orders\n",
       "datetime                       \n",
       "2018-03-01 00:00:00         124\n",
       "2018-03-01 01:00:00          85\n",
       "2018-03-01 02:00:00          71\n",
       "2018-03-01 03:00:00          66\n",
       "2018-03-01 04:00:00          43\n",
       "...                         ...\n",
       "2018-08-31 19:00:00         136\n",
       "2018-08-31 20:00:00         154\n",
       "2018-08-31 21:00:00         159\n",
       "2018-08-31 22:00:00         223\n",
       "2018-08-31 23:00:00         205\n",
       "\n",
       "[4416 rows x 1 columns]"
      ]
     },
     "execution_count": 4,
     "metadata": {},
     "output_type": "execute_result"
    }
   ],
   "source": [
    "df = df.resample('1h').sum()\n",
    "df"
   ]
  },
  {
   "cell_type": "markdown",
   "id": "fb03c2c6",
   "metadata": {},
   "source": [
    "For utility we will also spread month, day and hour into the dataframe"
   ]
  },
  {
   "cell_type": "code",
   "execution_count": 5,
   "id": "98ce0346",
   "metadata": {},
   "outputs": [],
   "source": [
    "# Make a column for the month, day and hour\n",
    "df['month'] = df.index.month\n",
    "df['day'] = df.index.day\n",
    "df['dayofweek'] = df.index.dayofweek\n",
    "df['hour'] = df.index.hour"
   ]
  },
  {
   "cell_type": "code",
   "execution_count": 6,
   "id": "0aaaab25",
   "metadata": {},
   "outputs": [
    {
     "data": {
      "text/html": [
       "<div>\n",
       "<style scoped>\n",
       "    .dataframe tbody tr th:only-of-type {\n",
       "        vertical-align: middle;\n",
       "    }\n",
       "\n",
       "    .dataframe tbody tr th {\n",
       "        vertical-align: top;\n",
       "    }\n",
       "\n",
       "    .dataframe thead th {\n",
       "        text-align: right;\n",
       "    }\n",
       "</style>\n",
       "<table border=\"1\" class=\"dataframe\">\n",
       "  <thead>\n",
       "    <tr style=\"text-align: right;\">\n",
       "      <th></th>\n",
       "      <th>num_orders</th>\n",
       "      <th>month</th>\n",
       "      <th>day</th>\n",
       "      <th>dayofweek</th>\n",
       "      <th>hour</th>\n",
       "    </tr>\n",
       "    <tr>\n",
       "      <th>datetime</th>\n",
       "      <th></th>\n",
       "      <th></th>\n",
       "      <th></th>\n",
       "      <th></th>\n",
       "      <th></th>\n",
       "    </tr>\n",
       "  </thead>\n",
       "  <tbody>\n",
       "    <tr>\n",
       "      <th>2018-03-01 00:00:00</th>\n",
       "      <td>124</td>\n",
       "      <td>3</td>\n",
       "      <td>1</td>\n",
       "      <td>3</td>\n",
       "      <td>0</td>\n",
       "    </tr>\n",
       "    <tr>\n",
       "      <th>2018-03-01 01:00:00</th>\n",
       "      <td>85</td>\n",
       "      <td>3</td>\n",
       "      <td>1</td>\n",
       "      <td>3</td>\n",
       "      <td>1</td>\n",
       "    </tr>\n",
       "    <tr>\n",
       "      <th>2018-03-01 02:00:00</th>\n",
       "      <td>71</td>\n",
       "      <td>3</td>\n",
       "      <td>1</td>\n",
       "      <td>3</td>\n",
       "      <td>2</td>\n",
       "    </tr>\n",
       "    <tr>\n",
       "      <th>2018-03-01 03:00:00</th>\n",
       "      <td>66</td>\n",
       "      <td>3</td>\n",
       "      <td>1</td>\n",
       "      <td>3</td>\n",
       "      <td>3</td>\n",
       "    </tr>\n",
       "    <tr>\n",
       "      <th>2018-03-01 04:00:00</th>\n",
       "      <td>43</td>\n",
       "      <td>3</td>\n",
       "      <td>1</td>\n",
       "      <td>3</td>\n",
       "      <td>4</td>\n",
       "    </tr>\n",
       "    <tr>\n",
       "      <th>...</th>\n",
       "      <td>...</td>\n",
       "      <td>...</td>\n",
       "      <td>...</td>\n",
       "      <td>...</td>\n",
       "      <td>...</td>\n",
       "    </tr>\n",
       "    <tr>\n",
       "      <th>2018-08-31 19:00:00</th>\n",
       "      <td>136</td>\n",
       "      <td>8</td>\n",
       "      <td>31</td>\n",
       "      <td>4</td>\n",
       "      <td>19</td>\n",
       "    </tr>\n",
       "    <tr>\n",
       "      <th>2018-08-31 20:00:00</th>\n",
       "      <td>154</td>\n",
       "      <td>8</td>\n",
       "      <td>31</td>\n",
       "      <td>4</td>\n",
       "      <td>20</td>\n",
       "    </tr>\n",
       "    <tr>\n",
       "      <th>2018-08-31 21:00:00</th>\n",
       "      <td>159</td>\n",
       "      <td>8</td>\n",
       "      <td>31</td>\n",
       "      <td>4</td>\n",
       "      <td>21</td>\n",
       "    </tr>\n",
       "    <tr>\n",
       "      <th>2018-08-31 22:00:00</th>\n",
       "      <td>223</td>\n",
       "      <td>8</td>\n",
       "      <td>31</td>\n",
       "      <td>4</td>\n",
       "      <td>22</td>\n",
       "    </tr>\n",
       "    <tr>\n",
       "      <th>2018-08-31 23:00:00</th>\n",
       "      <td>205</td>\n",
       "      <td>8</td>\n",
       "      <td>31</td>\n",
       "      <td>4</td>\n",
       "      <td>23</td>\n",
       "    </tr>\n",
       "  </tbody>\n",
       "</table>\n",
       "<p>4416 rows × 5 columns</p>\n",
       "</div>"
      ],
      "text/plain": [
       "                     num_orders  month  day  dayofweek  hour\n",
       "datetime                                                    \n",
       "2018-03-01 00:00:00         124      3    1          3     0\n",
       "2018-03-01 01:00:00          85      3    1          3     1\n",
       "2018-03-01 02:00:00          71      3    1          3     2\n",
       "2018-03-01 03:00:00          66      3    1          3     3\n",
       "2018-03-01 04:00:00          43      3    1          3     4\n",
       "...                         ...    ...  ...        ...   ...\n",
       "2018-08-31 19:00:00         136      8   31          4    19\n",
       "2018-08-31 20:00:00         154      8   31          4    20\n",
       "2018-08-31 21:00:00         159      8   31          4    21\n",
       "2018-08-31 22:00:00         223      8   31          4    22\n",
       "2018-08-31 23:00:00         205      8   31          4    23\n",
       "\n",
       "[4416 rows x 5 columns]"
      ]
     },
     "execution_count": 6,
     "metadata": {},
     "output_type": "execute_result"
    }
   ],
   "source": [
    "df"
   ]
  },
  {
   "cell_type": "markdown",
   "id": "14a638ff",
   "metadata": {},
   "source": [
    "## Analysis"
   ]
  },
  {
   "cell_type": "markdown",
   "id": "08cbc143",
   "metadata": {},
   "source": [
    "Analysing the data we will give ourselves a better understanding of what is happening each hour."
   ]
  },
  {
   "cell_type": "code",
   "execution_count": 7,
   "id": "42ef7c36",
   "metadata": {},
   "outputs": [
    {
     "data": {
      "text/html": [
       "<div>\n",
       "<style scoped>\n",
       "    .dataframe tbody tr th:only-of-type {\n",
       "        vertical-align: middle;\n",
       "    }\n",
       "\n",
       "    .dataframe tbody tr th {\n",
       "        vertical-align: top;\n",
       "    }\n",
       "\n",
       "    .dataframe thead th {\n",
       "        text-align: right;\n",
       "    }\n",
       "</style>\n",
       "<table border=\"1\" class=\"dataframe\">\n",
       "  <thead>\n",
       "    <tr style=\"text-align: right;\">\n",
       "      <th></th>\n",
       "      <th>num_orders</th>\n",
       "      <th>month</th>\n",
       "      <th>day</th>\n",
       "      <th>dayofweek</th>\n",
       "      <th>hour</th>\n",
       "    </tr>\n",
       "    <tr>\n",
       "      <th>datetime</th>\n",
       "      <th></th>\n",
       "      <th></th>\n",
       "      <th></th>\n",
       "      <th></th>\n",
       "      <th></th>\n",
       "    </tr>\n",
       "  </thead>\n",
       "  <tbody>\n",
       "    <tr>\n",
       "      <th>2018-03-01 00:00:00</th>\n",
       "      <td>124</td>\n",
       "      <td>3</td>\n",
       "      <td>1</td>\n",
       "      <td>Thursday</td>\n",
       "      <td>0</td>\n",
       "    </tr>\n",
       "    <tr>\n",
       "      <th>2018-03-01 01:00:00</th>\n",
       "      <td>85</td>\n",
       "      <td>3</td>\n",
       "      <td>1</td>\n",
       "      <td>Thursday</td>\n",
       "      <td>1</td>\n",
       "    </tr>\n",
       "    <tr>\n",
       "      <th>2018-03-01 02:00:00</th>\n",
       "      <td>71</td>\n",
       "      <td>3</td>\n",
       "      <td>1</td>\n",
       "      <td>Thursday</td>\n",
       "      <td>2</td>\n",
       "    </tr>\n",
       "    <tr>\n",
       "      <th>2018-03-01 03:00:00</th>\n",
       "      <td>66</td>\n",
       "      <td>3</td>\n",
       "      <td>1</td>\n",
       "      <td>Thursday</td>\n",
       "      <td>3</td>\n",
       "    </tr>\n",
       "    <tr>\n",
       "      <th>2018-03-01 04:00:00</th>\n",
       "      <td>43</td>\n",
       "      <td>3</td>\n",
       "      <td>1</td>\n",
       "      <td>Thursday</td>\n",
       "      <td>4</td>\n",
       "    </tr>\n",
       "    <tr>\n",
       "      <th>...</th>\n",
       "      <td>...</td>\n",
       "      <td>...</td>\n",
       "      <td>...</td>\n",
       "      <td>...</td>\n",
       "      <td>...</td>\n",
       "    </tr>\n",
       "    <tr>\n",
       "      <th>2018-08-31 19:00:00</th>\n",
       "      <td>136</td>\n",
       "      <td>8</td>\n",
       "      <td>31</td>\n",
       "      <td>Friday</td>\n",
       "      <td>19</td>\n",
       "    </tr>\n",
       "    <tr>\n",
       "      <th>2018-08-31 20:00:00</th>\n",
       "      <td>154</td>\n",
       "      <td>8</td>\n",
       "      <td>31</td>\n",
       "      <td>Friday</td>\n",
       "      <td>20</td>\n",
       "    </tr>\n",
       "    <tr>\n",
       "      <th>2018-08-31 21:00:00</th>\n",
       "      <td>159</td>\n",
       "      <td>8</td>\n",
       "      <td>31</td>\n",
       "      <td>Friday</td>\n",
       "      <td>21</td>\n",
       "    </tr>\n",
       "    <tr>\n",
       "      <th>2018-08-31 22:00:00</th>\n",
       "      <td>223</td>\n",
       "      <td>8</td>\n",
       "      <td>31</td>\n",
       "      <td>Friday</td>\n",
       "      <td>22</td>\n",
       "    </tr>\n",
       "    <tr>\n",
       "      <th>2018-08-31 23:00:00</th>\n",
       "      <td>205</td>\n",
       "      <td>8</td>\n",
       "      <td>31</td>\n",
       "      <td>Friday</td>\n",
       "      <td>23</td>\n",
       "    </tr>\n",
       "  </tbody>\n",
       "</table>\n",
       "<p>4416 rows × 5 columns</p>\n",
       "</div>"
      ],
      "text/plain": [
       "                     num_orders  month  day dayofweek  hour\n",
       "datetime                                                   \n",
       "2018-03-01 00:00:00         124      3    1  Thursday     0\n",
       "2018-03-01 01:00:00          85      3    1  Thursday     1\n",
       "2018-03-01 02:00:00          71      3    1  Thursday     2\n",
       "2018-03-01 03:00:00          66      3    1  Thursday     3\n",
       "2018-03-01 04:00:00          43      3    1  Thursday     4\n",
       "...                         ...    ...  ...       ...   ...\n",
       "2018-08-31 19:00:00         136      8   31    Friday    19\n",
       "2018-08-31 20:00:00         154      8   31    Friday    20\n",
       "2018-08-31 21:00:00         159      8   31    Friday    21\n",
       "2018-08-31 22:00:00         223      8   31    Friday    22\n",
       "2018-08-31 23:00:00         205      8   31    Friday    23\n",
       "\n",
       "[4416 rows x 5 columns]"
      ]
     },
     "execution_count": 7,
     "metadata": {},
     "output_type": "execute_result"
    }
   ],
   "source": [
    "# Create an analysis df\n",
    "analysis_df = df.copy()\n",
    "# For this analysis we will see a monthly view on taxi orders for every day of the week\n",
    "analysis_df['dayofweek'] = analysis_df['dayofweek'].map({0:'Monday', 1:'Tuesday', 2:'Wednesday', 3:'Thursday', 4:'Friday', 5:'Saturday', 6:'Sunday'})\n",
    "analysis_df['dayofweek'] = analysis_df['dayofweek'].astype('category')\n",
    "analysis_df\n"
   ]
  },
  {
   "cell_type": "code",
   "execution_count": 8,
   "id": "9b4689ec",
   "metadata": {},
   "outputs": [
    {
     "name": "stderr",
     "output_type": "stream",
     "text": [
      "C:\\Users\\Ian Salas López\\AppData\\Local\\Temp\\ipykernel_4764\\3306149402.py:2: FutureWarning: The default of observed=False is deprecated and will be changed to True in a future version of pandas. Pass observed=False to retain current behavior or observed=True to adopt the future default and silence this warning.\n",
      "  analysis_df.groupby(['month', 'dayofweek'])['num_orders'].sum().unstack().reindex(columns=['Monday', 'Tuesday', 'Wednesday', 'Thursday', 'Friday', 'Saturday', 'Sunday']).plot(kind='bar', figsize=(15, 7), title='Taxi Orders per Month and Day of the Week')\n"
     ]
    },
    {
     "data": {
      "image/png": "[encoded data removed]",
      "text/plain": [
       "<Figure size 1500x700 with 1 Axes>"
      ]
     },
     "metadata": {},
     "output_type": "display_data"
    }
   ],
   "source": [
    "# Plot a bar table for every month and day of the week inside the month of the sum of taxi orders ordered from monday to sunday each month\n",
    "analysis_df.groupby(['month', 'dayofweek'])['num_orders'].sum().unstack().reindex(columns=['Monday', 'Tuesday', 'Wednesday', 'Thursday', 'Friday', 'Saturday', 'Sunday']).plot(kind='bar', figsize=(15, 7), title='Taxi Orders per Month and Day of the Week')\n",
    "plt.xlabel('Month')\n",
    "plt.ylabel('Taxi Orders')\n",
    "plt.legend(title='Day of the Week')\n",
    "plt.show()"
   ]
  },
  {
   "cell_type": "code",
   "execution_count": 9,
   "id": "c7ee3966",
   "metadata": {},
   "outputs": [
    {
     "data": {
      "text/html": [
       "<div>\n",
       "<style scoped>\n",
       "    .dataframe tbody tr th:only-of-type {\n",
       "        vertical-align: middle;\n",
       "    }\n",
       "\n",
       "    .dataframe tbody tr th {\n",
       "        vertical-align: top;\n",
       "    }\n",
       "\n",
       "    .dataframe thead th {\n",
       "        text-align: right;\n",
       "    }\n",
       "</style>\n",
       "<table border=\"1\" class=\"dataframe\">\n",
       "  <thead>\n",
       "    <tr style=\"text-align: right;\">\n",
       "      <th></th>\n",
       "      <th>num_orders</th>\n",
       "    </tr>\n",
       "    <tr>\n",
       "      <th>datetime</th>\n",
       "      <th></th>\n",
       "    </tr>\n",
       "  </thead>\n",
       "  <tbody>\n",
       "    <tr>\n",
       "      <th>2018-03-01 00:00:00</th>\n",
       "      <td>124</td>\n",
       "    </tr>\n",
       "    <tr>\n",
       "      <th>2018-03-01 01:00:00</th>\n",
       "      <td>85</td>\n",
       "    </tr>\n",
       "    <tr>\n",
       "      <th>2018-03-01 02:00:00</th>\n",
       "      <td>71</td>\n",
       "    </tr>\n",
       "    <tr>\n",
       "      <th>2018-03-01 03:00:00</th>\n",
       "      <td>66</td>\n",
       "    </tr>\n",
       "    <tr>\n",
       "      <th>2018-03-01 04:00:00</th>\n",
       "      <td>43</td>\n",
       "    </tr>\n",
       "    <tr>\n",
       "      <th>...</th>\n",
       "      <td>...</td>\n",
       "    </tr>\n",
       "    <tr>\n",
       "      <th>2018-08-31 19:00:00</th>\n",
       "      <td>136</td>\n",
       "    </tr>\n",
       "    <tr>\n",
       "      <th>2018-08-31 20:00:00</th>\n",
       "      <td>154</td>\n",
       "    </tr>\n",
       "    <tr>\n",
       "      <th>2018-08-31 21:00:00</th>\n",
       "      <td>159</td>\n",
       "    </tr>\n",
       "    <tr>\n",
       "      <th>2018-08-31 22:00:00</th>\n",
       "      <td>223</td>\n",
       "    </tr>\n",
       "    <tr>\n",
       "      <th>2018-08-31 23:00:00</th>\n",
       "      <td>205</td>\n",
       "    </tr>\n",
       "  </tbody>\n",
       "</table>\n",
       "<p>4416 rows × 1 columns</p>\n",
       "</div>"
      ],
      "text/plain": [
       "                     num_orders\n",
       "datetime                       \n",
       "2018-03-01 00:00:00         124\n",
       "2018-03-01 01:00:00          85\n",
       "2018-03-01 02:00:00          71\n",
       "2018-03-01 03:00:00          66\n",
       "2018-03-01 04:00:00          43\n",
       "...                         ...\n",
       "2018-08-31 19:00:00         136\n",
       "2018-08-31 20:00:00         154\n",
       "2018-08-31 21:00:00         159\n",
       "2018-08-31 22:00:00         223\n",
       "2018-08-31 23:00:00         205\n",
       "\n",
       "[4416 rows x 1 columns]"
      ]
     },
     "execution_count": 9,
     "metadata": {},
     "output_type": "execute_result"
    }
   ],
   "source": [
    "analysis_df = analysis_df.drop(columns=['month', 'day', 'dayofweek', 'hour'])\n",
    "analysis_df"
   ]
  },
  {
   "cell_type": "markdown",
   "id": "44726fc1",
   "metadata": {},
   "source": [
    "The first thing to take into account here is that taxi orders increase from month to month.\n",
    "\n",
    "There is no clear indicator which day generate the most taxi orders"
   ]
  },
  {
   "cell_type": "code",
   "execution_count": 10,
   "id": "2b0f91fb",
   "metadata": {},
   "outputs": [
    {
     "data": {
      "image/png": "[encoded data removed]",
      "text/plain": [
       "<Figure size 640x480 with 1 Axes>"
      ]
     },
     "metadata": {},
     "output_type": "display_data"
    }
   ],
   "source": [
    "# We can also get the rolling mean of the data\n",
    "analysis_df = analysis_df['2018-03':'2018-08'].resample('1W').sum()\n",
    "# We can also get the rolling mean of the data\n",
    "analysis_df['num_orders'].mean()\n",
    "analysis_df['rolling_mean'] = analysis_df.rolling(window=3).mean()\n",
    "analysis_df.plot()\n",
    "# Plot a line chart for the rolling mean of the taxi orders\n",
    "plt.xlabel('Date')\n",
    "plt.ylabel('Taxi Orders')\n",
    "plt.title('Rolling Mean of Taxi Orders every week')\n",
    "plt.show()\n"
   ]
  },
  {
   "cell_type": "markdown",
   "id": "1682c1da",
   "metadata": {},
   "source": [
    "We can analize that the rolling mean indicates there has been a grow on taxi orders over the months, and that a decline was detected on the last week."
   ]
  },
  {
   "cell_type": "markdown",
   "id": "c5661637",
   "metadata": {},
   "source": [
    "## Formation"
   ]
  },
  {
   "cell_type": "markdown",
   "id": "3d1f8bff",
   "metadata": {},
   "source": [
    "Now we are going to build 3 models to test in whichn model we can get the better RECM percentage and get it lower to 48."
   ]
  },
  {
   "cell_type": "markdown",
   "id": "1199cd9f",
   "metadata": {},
   "source": [
    "## Features and target"
   ]
  },
  {
   "cell_type": "code",
   "execution_count": 11,
   "id": "0869660a",
   "metadata": {},
   "outputs": [],
   "source": [
    "# We want to separate get the features and the target\n",
    "features = df.drop(columns=['num_orders'])\n",
    "target = df['num_orders']\n",
    "# Now we separate our dataset into a training and testing set on 10% of the data\n",
    "X_train, X_test, y_train, y_test = train_test_split(features, target, test_size=0.1, random_state=12345, shuffle=False)"
   ]
  },
  {
   "cell_type": "markdown",
   "id": "c7d456fa",
   "metadata": {},
   "source": [
    "### Linear Regression"
   ]
  },
  {
   "cell_type": "code",
   "execution_count": 15,
   "id": "4a83c6ba",
   "metadata": {},
   "outputs": [
    {
     "name": "stdout",
     "output_type": "stream",
     "text": [
      "Mean Absolute Error: 47.79161995546618\n"
     ]
    }
   ],
   "source": [
    "# We will use a linear regression model\n",
    "model = LinearRegression()\n",
    "# Fit the model to the training data\n",
    "model.fit(X_train, y_train)\n",
    "# Make predictions on the test data\n",
    "predictions = model.predict(X_test)\n",
    "# Calculate the mean absolute error\n",
    "mae = skmet.mean_absolute_error(y_test, predictions)\n",
    "print(f'Mean Absolute Error: {mae}')"
   ]
  },
  {
   "cell_type": "markdown",
   "id": "7966f088",
   "metadata": {},
   "source": [
    "This model passes the metric slightly below the limit"
   ]
  },
  {
   "cell_type": "markdown",
   "id": "505ad08b",
   "metadata": {},
   "source": [
    "### LightGBM"
   ]
  },
  {
   "cell_type": "code",
   "execution_count": 16,
   "id": "0a883deb",
   "metadata": {},
   "outputs": [
    {
     "name": "stdout",
     "output_type": "stream",
     "text": [
      "Mean Absolute Error with depth 5 and leaves 30: 31.752065974634466\n"
     ]
    }
   ],
   "source": [
    "# Create a dataset for LightGBM model\n",
    "lgb_data = lgb.Dataset(features, label=target)\n",
    "\n",
    "# Create a LightGBM model\n",
    "model = LGBMRegressor(objective='regression', metric='rmse', force_row_wise=True, max_depth=5, num_leaves=30, learning_rate=0.1, verbose=-1)\n",
    "# Fit the model to the training data\n",
    "model.fit(X_train, y_train)\n",
    "# Make predictions on the test data\n",
    "predictions = model.predict(X_test)\n",
    "# Calculate the mean absolute error\n",
    "mae = skmet.mean_absolute_error(y_test, predictions)\n",
    "print(f'Mean Absolute Error with depth 5 and leaves 30: {mae}')"
   ]
  },
  {
   "cell_type": "markdown",
   "id": "fa062089",
   "metadata": {},
   "source": [
    "LightGBMRegressor reaches lower values using only 5 of depth and 30 leaves for the prediction. "
   ]
  },
  {
   "cell_type": "markdown",
   "id": "ef2313f2",
   "metadata": {},
   "source": [
    "### XGBoost"
   ]
  },
  {
   "cell_type": "code",
   "execution_count": 17,
   "id": "f19e9e6f",
   "metadata": {},
   "outputs": [
    {
     "name": "stdout",
     "output_type": "stream",
     "text": [
      "Mean Absolute Error with estimators 100 and depth 5: 32.82292556762695\n"
     ]
    }
   ],
   "source": [
    "# Create a LightGBM model\n",
    "model = XGBRegressor(max_depth=5, learning_rate=0.1, n_estimators=100, objective='reg:squarederror', booster='gbtree', tree_method='hist', eval_metric='rmse')\n",
    "# Fit the model to the training data\n",
    "model.fit(X_train, y_train)\n",
    "# Make predictions on the test data\n",
    "predictions = model.predict(X_test)\n",
    "# Calculate the mean absolute error\n",
    "mae = skmet.mean_absolute_error(y_test, predictions)\n",
    "print(f'Mean Absolute Error with estimators 100 and depth 5: {mae}')"
   ]
  }
 ],
 "metadata": {
  "kernelspec": {
   "display_name": "Python 3",
   "language": "python",
   "name": "python3"
  },
  "language_info": {
   "codemirror_mode": {
    "name": "ipython",
    "version": 3
   },
   "file_extension": ".py",
   "mimetype": "text/x-python",
   "name": "python",
   "nbconvert_exporter": "python",
   "pygments_lexer": "ipython3",
   "version": "3.12.10"
  }
 },
 "nbformat": 4,
 "nbformat_minor": 5
}
